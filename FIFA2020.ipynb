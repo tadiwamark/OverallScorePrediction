{
  "nbformat": 4,
  "nbformat_minor": 5,
  "metadata": {
    "kernelspec": {
      "display_name": "Python 3",
      "language": "python",
      "name": "python3"
    },
    "language_info": {
      "codemirror_mode": {
        "name": "ipython",
        "version": 3
      },
      "file_extension": ".py",
      "mimetype": "text/x-python",
      "name": "python",
      "nbconvert_exporter": "python",
      "pygments_lexer": "ipython3",
      "version": "3.8.8"
    },
    "colab": {
      "name": "FIFA2020.ipynb",
      "provenance": [],
      "include_colab_link": true
    }
  },
  "cells": [
    {
      "cell_type": "markdown",
      "metadata": {
        "id": "view-in-github",
        "colab_type": "text"
      },
      "source": [
        "<a href=\"https://colab.research.google.com/github/tadiwamark/OverallScorePrediction/blob/main/FIFA2020.ipynb\" target=\"_parent\"><img src=\"https://colab.research.google.com/assets/colab-badge.svg\" alt=\"Open In Colab\"/></a>"
      ]
    },
    {
      "cell_type": "code",
      "metadata": {
        "colab": {
          "base_uri": "https://localhost:8080/"
        },
        "id": "r_PGx3Y3Cbv_",
        "outputId": "fba03ebf-4f88-491e-bc29-aef728b282a4"
      },
      "source": [
        "from google.colab import drive\n",
        "drive.mount('/content/gdrive')\n",
        "\n",
        "root_path = 'gdrive/My Drive/Colab Notebooks/FIFA/'"
      ],
      "id": "r_PGx3Y3Cbv_",
      "execution_count": null,
      "outputs": [
        {
          "output_type": "stream",
          "name": "stdout",
          "text": [
            "Drive already mounted at /content/gdrive; to attempt to forcibly remount, call drive.mount(\"/content/gdrive\", force_remount=True).\n"
          ]
        }
      ]
    },
    {
      "cell_type": "code",
      "metadata": {
        "id": "48c32059"
      },
      "source": [
        "import pandas as pd  \n",
        "import numpy as np \n",
        "import seaborn as sns\n",
        "import matplotlib.pyplot as plt\n",
        "%matplotlib inline\n",
        "\n",
        "import plotly.graph_objs as go\n",
        "import plotly.express as px\n",
        "\n",
        "import warnings\n",
        "warnings.filterwarnings('ignore')"
      ],
      "id": "48c32059",
      "execution_count": null,
      "outputs": []
    },
    {
      "cell_type": "markdown",
      "metadata": {
        "id": "5__mqUuWNOXX"
      },
      "source": [
        "### Connecting kaggle with Google colab\n",
        "Instructions on: https://www.analyticsvidhya.com/blog/2021/06/how-to-load-kaggle-datasets-directly-into-google-colab/"
      ],
      "id": "5__mqUuWNOXX"
    },
    {
      "cell_type": "code",
      "metadata": {
        "colab": {
          "base_uri": "https://localhost:8080/"
        },
        "id": "9w-5uRTzHTP5",
        "outputId": "68abb266-9d0e-40b8-f447-66f50c35dfe9"
      },
      "source": [
        "! pip install kaggle"
      ],
      "id": "9w-5uRTzHTP5",
      "execution_count": null,
      "outputs": [
        {
          "output_type": "stream",
          "name": "stdout",
          "text": [
            "Requirement already satisfied: kaggle in /usr/local/lib/python3.7/dist-packages (1.5.12)\n",
            "Requirement already satisfied: requests in /usr/local/lib/python3.7/dist-packages (from kaggle) (2.23.0)\n",
            "Requirement already satisfied: tqdm in /usr/local/lib/python3.7/dist-packages (from kaggle) (4.62.3)\n",
            "Requirement already satisfied: python-dateutil in /usr/local/lib/python3.7/dist-packages (from kaggle) (2.8.2)\n",
            "Requirement already satisfied: python-slugify in /usr/local/lib/python3.7/dist-packages (from kaggle) (5.0.2)\n",
            "Requirement already satisfied: six>=1.10 in /usr/local/lib/python3.7/dist-packages (from kaggle) (1.15.0)\n",
            "Requirement already satisfied: urllib3 in /usr/local/lib/python3.7/dist-packages (from kaggle) (1.24.3)\n",
            "Requirement already satisfied: certifi in /usr/local/lib/python3.7/dist-packages (from kaggle) (2021.10.8)\n",
            "Requirement already satisfied: text-unidecode>=1.3 in /usr/local/lib/python3.7/dist-packages (from python-slugify->kaggle) (1.3)\n",
            "Requirement already satisfied: idna<3,>=2.5 in /usr/local/lib/python3.7/dist-packages (from requests->kaggle) (2.10)\n",
            "Requirement already satisfied: chardet<4,>=3.0.2 in /usr/local/lib/python3.7/dist-packages (from requests->kaggle) (3.0.4)\n"
          ]
        }
      ]
    },
    {
      "cell_type": "code",
      "metadata": {
        "colab": {
          "base_uri": "https://localhost:8080/"
        },
        "id": "16gSUHCFJYpS",
        "outputId": "77c45f48-f263-484e-d4a7-b39b79cea72f"
      },
      "source": [
        "! mkdir ~/.kaggle"
      ],
      "id": "16gSUHCFJYpS",
      "execution_count": null,
      "outputs": [
        {
          "output_type": "stream",
          "name": "stdout",
          "text": [
            "mkdir: cannot create directory ‘/root/.kaggle’: File exists\n"
          ]
        }
      ]
    },
    {
      "cell_type": "code",
      "metadata": {
        "id": "cWpJYhX9JekD"
      },
      "source": [
        "! cp kaggle.json ~/.kaggle/"
      ],
      "id": "cWpJYhX9JekD",
      "execution_count": null,
      "outputs": []
    },
    {
      "cell_type": "code",
      "metadata": {
        "id": "O0EetQi1JjWC"
      },
      "source": [
        "! chmod 600 ~/.kaggle/kaggle.json"
      ],
      "id": "O0EetQi1JjWC",
      "execution_count": null,
      "outputs": []
    },
    {
      "cell_type": "code",
      "metadata": {
        "colab": {
          "base_uri": "https://localhost:8080/"
        },
        "id": "BQcvwbfsLRmV",
        "outputId": "d76289a3-a2ca-4f2f-e27c-1e53a4013a21"
      },
      "source": [
        "! kaggle datasets download stefanoleone992/fifa-20-complete-player-dataset"
      ],
      "id": "BQcvwbfsLRmV",
      "execution_count": null,
      "outputs": [
        {
          "output_type": "stream",
          "name": "stdout",
          "text": [
            "fifa-20-complete-player-dataset.zip: Skipping, found more recently modified local copy (use --force to force download)\n"
          ]
        }
      ]
    },
    {
      "cell_type": "code",
      "metadata": {
        "colab": {
          "base_uri": "https://localhost:8080/"
        },
        "id": "HY_80JnrMi46",
        "outputId": "fb86607f-78d8-4f12-b695-200b2e9b61b3"
      },
      "source": [
        "! unzip fifa-20-complete-player-dataset.zip"
      ],
      "id": "HY_80JnrMi46",
      "execution_count": null,
      "outputs": [
        {
          "output_type": "stream",
          "name": "stdout",
          "text": [
            "Archive:  fifa-20-complete-player-dataset.zip\n",
            "replace players_15.csv? [y]es, [n]o, [A]ll, [N]one, [r]ename: y,A\n",
            "  inflating: players_15.csv          \n",
            "replace players_16.csv? [y]es, [n]o, [A]ll, [N]one, [r]ename: n\n",
            "replace players_17.csv? [y]es, [n]o, [A]ll, [N]one, [r]ename: n\n",
            "replace players_18.csv? [y]es, [n]o, [A]ll, [N]one, [r]ename: n\n",
            "replace players_19.csv? [y]es, [n]o, [A]ll, [N]one, [r]ename: n\n",
            "replace players_20.csv? [y]es, [n]o, [A]ll, [N]one, [r]ename: n\n",
            "replace teams_and_leagues.csv? [y]es, [n]o, [A]ll, [N]one, [r]ename: n\n"
          ]
        }
      ]
    },
    {
      "cell_type": "markdown",
      "metadata": {
        "id": "46c9f18d"
      },
      "source": [
        "### Data Exploration"
      ],
      "id": "46c9f18d"
    },
    {
      "cell_type": "code",
      "metadata": {
        "scrolled": true,
        "colab": {
          "base_uri": "https://localhost:8080/",
          "height": 568
        },
        "id": "a4741904",
        "outputId": "a435e7c2-65af-413e-bb61-826608365bb4"
      },
      "source": [
        "#data = pd.read_csv(root_path+\"players_15.csv\") \n",
        "data=pd.read_csv(\"players_15.csv\")\n",
        "data.head()"
      ],
      "id": "a4741904",
      "execution_count": null,
      "outputs": [
        {
          "output_type": "execute_result",
          "data": {
            "text/html": [
              "<div>\n",
              "<style scoped>\n",
              "    .dataframe tbody tr th:only-of-type {\n",
              "        vertical-align: middle;\n",
              "    }\n",
              "\n",
              "    .dataframe tbody tr th {\n",
              "        vertical-align: top;\n",
              "    }\n",
              "\n",
              "    .dataframe thead th {\n",
              "        text-align: right;\n",
              "    }\n",
              "</style>\n",
              "<table border=\"1\" class=\"dataframe\">\n",
              "  <thead>\n",
              "    <tr style=\"text-align: right;\">\n",
              "      <th></th>\n",
              "      <th>sofifa_id</th>\n",
              "      <th>player_url</th>\n",
              "      <th>short_name</th>\n",
              "      <th>long_name</th>\n",
              "      <th>age</th>\n",
              "      <th>dob</th>\n",
              "      <th>height_cm</th>\n",
              "      <th>weight_kg</th>\n",
              "      <th>nationality</th>\n",
              "      <th>club</th>\n",
              "      <th>overall</th>\n",
              "      <th>potential</th>\n",
              "      <th>value_eur</th>\n",
              "      <th>wage_eur</th>\n",
              "      <th>player_positions</th>\n",
              "      <th>preferred_foot</th>\n",
              "      <th>international_reputation</th>\n",
              "      <th>weak_foot</th>\n",
              "      <th>skill_moves</th>\n",
              "      <th>work_rate</th>\n",
              "      <th>body_type</th>\n",
              "      <th>real_face</th>\n",
              "      <th>release_clause_eur</th>\n",
              "      <th>player_tags</th>\n",
              "      <th>team_position</th>\n",
              "      <th>team_jersey_number</th>\n",
              "      <th>loaned_from</th>\n",
              "      <th>joined</th>\n",
              "      <th>contract_valid_until</th>\n",
              "      <th>nation_position</th>\n",
              "      <th>nation_jersey_number</th>\n",
              "      <th>pace</th>\n",
              "      <th>shooting</th>\n",
              "      <th>passing</th>\n",
              "      <th>dribbling</th>\n",
              "      <th>defending</th>\n",
              "      <th>physic</th>\n",
              "      <th>gk_diving</th>\n",
              "      <th>gk_handling</th>\n",
              "      <th>gk_kicking</th>\n",
              "      <th>...</th>\n",
              "      <th>mentality_aggression</th>\n",
              "      <th>mentality_interceptions</th>\n",
              "      <th>mentality_positioning</th>\n",
              "      <th>mentality_vision</th>\n",
              "      <th>mentality_penalties</th>\n",
              "      <th>mentality_composure</th>\n",
              "      <th>defending_marking</th>\n",
              "      <th>defending_standing_tackle</th>\n",
              "      <th>defending_sliding_tackle</th>\n",
              "      <th>goalkeeping_diving</th>\n",
              "      <th>goalkeeping_handling</th>\n",
              "      <th>goalkeeping_kicking</th>\n",
              "      <th>goalkeeping_positioning</th>\n",
              "      <th>goalkeeping_reflexes</th>\n",
              "      <th>ls</th>\n",
              "      <th>st</th>\n",
              "      <th>rs</th>\n",
              "      <th>lw</th>\n",
              "      <th>lf</th>\n",
              "      <th>cf</th>\n",
              "      <th>rf</th>\n",
              "      <th>rw</th>\n",
              "      <th>lam</th>\n",
              "      <th>cam</th>\n",
              "      <th>ram</th>\n",
              "      <th>lm</th>\n",
              "      <th>lcm</th>\n",
              "      <th>cm</th>\n",
              "      <th>rcm</th>\n",
              "      <th>rm</th>\n",
              "      <th>lwb</th>\n",
              "      <th>ldm</th>\n",
              "      <th>cdm</th>\n",
              "      <th>rdm</th>\n",
              "      <th>rwb</th>\n",
              "      <th>lb</th>\n",
              "      <th>lcb</th>\n",
              "      <th>cb</th>\n",
              "      <th>rcb</th>\n",
              "      <th>rb</th>\n",
              "    </tr>\n",
              "  </thead>\n",
              "  <tbody>\n",
              "    <tr>\n",
              "      <th>0</th>\n",
              "      <td>158023</td>\n",
              "      <td>https://sofifa.com/player/158023/lionel-messi/...</td>\n",
              "      <td>L. Messi</td>\n",
              "      <td>Lionel Andrés Messi Cuccittini</td>\n",
              "      <td>27</td>\n",
              "      <td>1987-06-24</td>\n",
              "      <td>169</td>\n",
              "      <td>67</td>\n",
              "      <td>Argentina</td>\n",
              "      <td>FC Barcelona</td>\n",
              "      <td>93</td>\n",
              "      <td>95</td>\n",
              "      <td>0</td>\n",
              "      <td>0</td>\n",
              "      <td>CF</td>\n",
              "      <td>Left</td>\n",
              "      <td>5</td>\n",
              "      <td>3</td>\n",
              "      <td>4</td>\n",
              "      <td>Medium/Low</td>\n",
              "      <td>Normal</td>\n",
              "      <td>Yes</td>\n",
              "      <td>NaN</td>\n",
              "      <td>#Speedster, #Dribbler, #FK Specialist, #Acroba...</td>\n",
              "      <td>CF</td>\n",
              "      <td>10.0</td>\n",
              "      <td>NaN</td>\n",
              "      <td>2004-07-01</td>\n",
              "      <td>2018.0</td>\n",
              "      <td>CF</td>\n",
              "      <td>10.0</td>\n",
              "      <td>93.0</td>\n",
              "      <td>89.0</td>\n",
              "      <td>86.0</td>\n",
              "      <td>96.0</td>\n",
              "      <td>27.0</td>\n",
              "      <td>63.0</td>\n",
              "      <td>NaN</td>\n",
              "      <td>NaN</td>\n",
              "      <td>NaN</td>\n",
              "      <td>...</td>\n",
              "      <td>48</td>\n",
              "      <td>22</td>\n",
              "      <td>92-1</td>\n",
              "      <td>90</td>\n",
              "      <td>76</td>\n",
              "      <td>NaN</td>\n",
              "      <td>25</td>\n",
              "      <td>21</td>\n",
              "      <td>20</td>\n",
              "      <td>6</td>\n",
              "      <td>11</td>\n",
              "      <td>15</td>\n",
              "      <td>14</td>\n",
              "      <td>8</td>\n",
              "      <td>89+3</td>\n",
              "      <td>89+3</td>\n",
              "      <td>89+3</td>\n",
              "      <td>92+3</td>\n",
              "      <td>90+3</td>\n",
              "      <td>90+3</td>\n",
              "      <td>90+3</td>\n",
              "      <td>92+3</td>\n",
              "      <td>92+3</td>\n",
              "      <td>92+3</td>\n",
              "      <td>92+3</td>\n",
              "      <td>90+3</td>\n",
              "      <td>79+3</td>\n",
              "      <td>79+3</td>\n",
              "      <td>79+3</td>\n",
              "      <td>90+3</td>\n",
              "      <td>62+3</td>\n",
              "      <td>62+3</td>\n",
              "      <td>62+3</td>\n",
              "      <td>62+3</td>\n",
              "      <td>62+3</td>\n",
              "      <td>54+3</td>\n",
              "      <td>45+3</td>\n",
              "      <td>45+3</td>\n",
              "      <td>45+3</td>\n",
              "      <td>54+3</td>\n",
              "    </tr>\n",
              "    <tr>\n",
              "      <th>1</th>\n",
              "      <td>20801</td>\n",
              "      <td>https://sofifa.com/player/20801/c-ronaldo-dos-...</td>\n",
              "      <td>Cristiano Ronaldo</td>\n",
              "      <td>Cristiano Ronaldo dos Santos Aveiro</td>\n",
              "      <td>29</td>\n",
              "      <td>1985-02-05</td>\n",
              "      <td>185</td>\n",
              "      <td>80</td>\n",
              "      <td>Portugal</td>\n",
              "      <td>Real Madrid</td>\n",
              "      <td>92</td>\n",
              "      <td>92</td>\n",
              "      <td>0</td>\n",
              "      <td>0</td>\n",
              "      <td>LW, LM</td>\n",
              "      <td>Right</td>\n",
              "      <td>5</td>\n",
              "      <td>4</td>\n",
              "      <td>5</td>\n",
              "      <td>High/Low</td>\n",
              "      <td>Normal</td>\n",
              "      <td>Yes</td>\n",
              "      <td>NaN</td>\n",
              "      <td>#Speedster, #Dribbler, #Distance Shooter, #Acr...</td>\n",
              "      <td>LW</td>\n",
              "      <td>7.0</td>\n",
              "      <td>NaN</td>\n",
              "      <td>2009-07-01</td>\n",
              "      <td>2018.0</td>\n",
              "      <td>LW</td>\n",
              "      <td>7.0</td>\n",
              "      <td>93.0</td>\n",
              "      <td>93.0</td>\n",
              "      <td>81.0</td>\n",
              "      <td>91.0</td>\n",
              "      <td>32.0</td>\n",
              "      <td>79.0</td>\n",
              "      <td>NaN</td>\n",
              "      <td>NaN</td>\n",
              "      <td>NaN</td>\n",
              "      <td>...</td>\n",
              "      <td>63</td>\n",
              "      <td>24</td>\n",
              "      <td>91+2</td>\n",
              "      <td>81</td>\n",
              "      <td>85</td>\n",
              "      <td>NaN</td>\n",
              "      <td>22</td>\n",
              "      <td>31</td>\n",
              "      <td>23</td>\n",
              "      <td>7</td>\n",
              "      <td>11</td>\n",
              "      <td>15</td>\n",
              "      <td>14</td>\n",
              "      <td>11</td>\n",
              "      <td>91+3</td>\n",
              "      <td>91+3</td>\n",
              "      <td>91+3</td>\n",
              "      <td>89+3</td>\n",
              "      <td>91+3</td>\n",
              "      <td>91+3</td>\n",
              "      <td>91+3</td>\n",
              "      <td>89+3</td>\n",
              "      <td>89+3</td>\n",
              "      <td>89+3</td>\n",
              "      <td>89+3</td>\n",
              "      <td>87+3</td>\n",
              "      <td>77+3</td>\n",
              "      <td>77+3</td>\n",
              "      <td>77+3</td>\n",
              "      <td>87+3</td>\n",
              "      <td>63+3</td>\n",
              "      <td>63+3</td>\n",
              "      <td>63+3</td>\n",
              "      <td>63+3</td>\n",
              "      <td>63+3</td>\n",
              "      <td>57+3</td>\n",
              "      <td>52+3</td>\n",
              "      <td>52+3</td>\n",
              "      <td>52+3</td>\n",
              "      <td>57+3</td>\n",
              "    </tr>\n",
              "    <tr>\n",
              "      <th>2</th>\n",
              "      <td>9014</td>\n",
              "      <td>https://sofifa.com/player/9014/arjen-robben/15...</td>\n",
              "      <td>A. Robben</td>\n",
              "      <td>Arjen Robben</td>\n",
              "      <td>30</td>\n",
              "      <td>1984-01-23</td>\n",
              "      <td>180</td>\n",
              "      <td>80</td>\n",
              "      <td>Netherlands</td>\n",
              "      <td>FC Bayern München</td>\n",
              "      <td>90</td>\n",
              "      <td>90</td>\n",
              "      <td>0</td>\n",
              "      <td>0</td>\n",
              "      <td>RM, LM, RW</td>\n",
              "      <td>Left</td>\n",
              "      <td>5</td>\n",
              "      <td>2</td>\n",
              "      <td>4</td>\n",
              "      <td>High/Low</td>\n",
              "      <td>Normal</td>\n",
              "      <td>Yes</td>\n",
              "      <td>NaN</td>\n",
              "      <td>#Speedster, #Dribbler, #Distance Shooter, #Acr...</td>\n",
              "      <td>SUB</td>\n",
              "      <td>10.0</td>\n",
              "      <td>NaN</td>\n",
              "      <td>2009-08-28</td>\n",
              "      <td>2017.0</td>\n",
              "      <td>RS</td>\n",
              "      <td>11.0</td>\n",
              "      <td>93.0</td>\n",
              "      <td>86.0</td>\n",
              "      <td>83.0</td>\n",
              "      <td>92.0</td>\n",
              "      <td>32.0</td>\n",
              "      <td>64.0</td>\n",
              "      <td>NaN</td>\n",
              "      <td>NaN</td>\n",
              "      <td>NaN</td>\n",
              "      <td>...</td>\n",
              "      <td>47+9</td>\n",
              "      <td>39+1</td>\n",
              "      <td>89+2</td>\n",
              "      <td>84+2</td>\n",
              "      <td>80+1</td>\n",
              "      <td>NaN</td>\n",
              "      <td>29</td>\n",
              "      <td>26+2</td>\n",
              "      <td>26+1</td>\n",
              "      <td>10</td>\n",
              "      <td>8</td>\n",
              "      <td>11</td>\n",
              "      <td>5</td>\n",
              "      <td>15</td>\n",
              "      <td>84+3</td>\n",
              "      <td>84+3</td>\n",
              "      <td>84+3</td>\n",
              "      <td>88+3</td>\n",
              "      <td>87+3</td>\n",
              "      <td>87+3</td>\n",
              "      <td>87+3</td>\n",
              "      <td>88+3</td>\n",
              "      <td>88+3</td>\n",
              "      <td>88+3</td>\n",
              "      <td>88+3</td>\n",
              "      <td>87+3</td>\n",
              "      <td>78+3</td>\n",
              "      <td>78+3</td>\n",
              "      <td>78+3</td>\n",
              "      <td>87+3</td>\n",
              "      <td>64+3</td>\n",
              "      <td>64+3</td>\n",
              "      <td>64+3</td>\n",
              "      <td>64+3</td>\n",
              "      <td>64+3</td>\n",
              "      <td>55+3</td>\n",
              "      <td>46+3</td>\n",
              "      <td>46+3</td>\n",
              "      <td>46+3</td>\n",
              "      <td>55+3</td>\n",
              "    </tr>\n",
              "    <tr>\n",
              "      <th>3</th>\n",
              "      <td>41236</td>\n",
              "      <td>https://sofifa.com/player/41236/zlatan-ibrahim...</td>\n",
              "      <td>Z. Ibrahimović</td>\n",
              "      <td>Zlatan Ibrahimović</td>\n",
              "      <td>32</td>\n",
              "      <td>1981-10-03</td>\n",
              "      <td>195</td>\n",
              "      <td>95</td>\n",
              "      <td>Sweden</td>\n",
              "      <td>Paris Saint-Germain</td>\n",
              "      <td>90</td>\n",
              "      <td>90</td>\n",
              "      <td>0</td>\n",
              "      <td>0</td>\n",
              "      <td>ST</td>\n",
              "      <td>Right</td>\n",
              "      <td>5</td>\n",
              "      <td>4</td>\n",
              "      <td>4</td>\n",
              "      <td>Medium/Low</td>\n",
              "      <td>Normal</td>\n",
              "      <td>Yes</td>\n",
              "      <td>NaN</td>\n",
              "      <td>#Poacher, #Aerial Threat, #Distance Shooter, #...</td>\n",
              "      <td>ST</td>\n",
              "      <td>10.0</td>\n",
              "      <td>NaN</td>\n",
              "      <td>2012-07-01</td>\n",
              "      <td>2016.0</td>\n",
              "      <td>ST</td>\n",
              "      <td>10.0</td>\n",
              "      <td>76.0</td>\n",
              "      <td>91.0</td>\n",
              "      <td>81.0</td>\n",
              "      <td>86.0</td>\n",
              "      <td>34.0</td>\n",
              "      <td>86.0</td>\n",
              "      <td>NaN</td>\n",
              "      <td>NaN</td>\n",
              "      <td>NaN</td>\n",
              "      <td>...</td>\n",
              "      <td>84</td>\n",
              "      <td>20</td>\n",
              "      <td>86</td>\n",
              "      <td>83-1</td>\n",
              "      <td>91</td>\n",
              "      <td>NaN</td>\n",
              "      <td>25</td>\n",
              "      <td>41-8</td>\n",
              "      <td>27</td>\n",
              "      <td>13</td>\n",
              "      <td>15</td>\n",
              "      <td>10</td>\n",
              "      <td>9</td>\n",
              "      <td>12</td>\n",
              "      <td>87+3</td>\n",
              "      <td>87+3</td>\n",
              "      <td>87+3</td>\n",
              "      <td>84+3</td>\n",
              "      <td>86+3</td>\n",
              "      <td>86+3</td>\n",
              "      <td>86+3</td>\n",
              "      <td>84+3</td>\n",
              "      <td>86+3</td>\n",
              "      <td>86+3</td>\n",
              "      <td>86+3</td>\n",
              "      <td>83+3</td>\n",
              "      <td>76+3</td>\n",
              "      <td>76+3</td>\n",
              "      <td>76+3</td>\n",
              "      <td>83+3</td>\n",
              "      <td>61+3</td>\n",
              "      <td>65+3</td>\n",
              "      <td>65+3</td>\n",
              "      <td>65+3</td>\n",
              "      <td>61+3</td>\n",
              "      <td>56+3</td>\n",
              "      <td>55+3</td>\n",
              "      <td>55+3</td>\n",
              "      <td>55+3</td>\n",
              "      <td>56+3</td>\n",
              "    </tr>\n",
              "    <tr>\n",
              "      <th>4</th>\n",
              "      <td>167495</td>\n",
              "      <td>https://sofifa.com/player/167495/manuel-neuer/...</td>\n",
              "      <td>M. Neuer</td>\n",
              "      <td>Manuel Neuer</td>\n",
              "      <td>28</td>\n",
              "      <td>1986-03-27</td>\n",
              "      <td>193</td>\n",
              "      <td>92</td>\n",
              "      <td>Germany</td>\n",
              "      <td>FC Bayern München</td>\n",
              "      <td>90</td>\n",
              "      <td>90</td>\n",
              "      <td>0</td>\n",
              "      <td>0</td>\n",
              "      <td>GK</td>\n",
              "      <td>Right</td>\n",
              "      <td>5</td>\n",
              "      <td>4</td>\n",
              "      <td>1</td>\n",
              "      <td>Medium/Medium</td>\n",
              "      <td>Normal</td>\n",
              "      <td>Yes</td>\n",
              "      <td>NaN</td>\n",
              "      <td>NaN</td>\n",
              "      <td>GK</td>\n",
              "      <td>1.0</td>\n",
              "      <td>NaN</td>\n",
              "      <td>2011-07-01</td>\n",
              "      <td>2019.0</td>\n",
              "      <td>GK</td>\n",
              "      <td>1.0</td>\n",
              "      <td>NaN</td>\n",
              "      <td>NaN</td>\n",
              "      <td>NaN</td>\n",
              "      <td>NaN</td>\n",
              "      <td>NaN</td>\n",
              "      <td>NaN</td>\n",
              "      <td>87.0</td>\n",
              "      <td>85.0</td>\n",
              "      <td>92.0</td>\n",
              "      <td>...</td>\n",
              "      <td>29+3</td>\n",
              "      <td>30+8</td>\n",
              "      <td>25</td>\n",
              "      <td>20</td>\n",
              "      <td>37</td>\n",
              "      <td>NaN</td>\n",
              "      <td>25</td>\n",
              "      <td>25</td>\n",
              "      <td>25</td>\n",
              "      <td>87</td>\n",
              "      <td>85+3</td>\n",
              "      <td>92</td>\n",
              "      <td>90+6</td>\n",
              "      <td>86</td>\n",
              "      <td>NaN</td>\n",
              "      <td>NaN</td>\n",
              "      <td>NaN</td>\n",
              "      <td>NaN</td>\n",
              "      <td>NaN</td>\n",
              "      <td>NaN</td>\n",
              "      <td>NaN</td>\n",
              "      <td>NaN</td>\n",
              "      <td>NaN</td>\n",
              "      <td>NaN</td>\n",
              "      <td>NaN</td>\n",
              "      <td>NaN</td>\n",
              "      <td>NaN</td>\n",
              "      <td>NaN</td>\n",
              "      <td>NaN</td>\n",
              "      <td>NaN</td>\n",
              "      <td>NaN</td>\n",
              "      <td>NaN</td>\n",
              "      <td>NaN</td>\n",
              "      <td>NaN</td>\n",
              "      <td>NaN</td>\n",
              "      <td>NaN</td>\n",
              "      <td>NaN</td>\n",
              "      <td>NaN</td>\n",
              "      <td>NaN</td>\n",
              "      <td>NaN</td>\n",
              "    </tr>\n",
              "  </tbody>\n",
              "</table>\n",
              "<p>5 rows × 104 columns</p>\n",
              "</div>"
            ],
            "text/plain": [
              "   sofifa_id                                         player_url  ...   rcb    rb\n",
              "0     158023  https://sofifa.com/player/158023/lionel-messi/...  ...  45+3  54+3\n",
              "1      20801  https://sofifa.com/player/20801/c-ronaldo-dos-...  ...  52+3  57+3\n",
              "2       9014  https://sofifa.com/player/9014/arjen-robben/15...  ...  46+3  55+3\n",
              "3      41236  https://sofifa.com/player/41236/zlatan-ibrahim...  ...  55+3  56+3\n",
              "4     167495  https://sofifa.com/player/167495/manuel-neuer/...  ...   NaN   NaN\n",
              "\n",
              "[5 rows x 104 columns]"
            ]
          },
          "metadata": {},
          "execution_count": 75
        }
      ]
    },
    {
      "cell_type": "code",
      "metadata": {
        "colab": {
          "base_uri": "https://localhost:8080/"
        },
        "id": "7b304fb6",
        "outputId": "9a2783b5-fd7e-48ad-eb60-b0810b70d30a"
      },
      "source": [
        "data[\"attacking_heading_accuracy\"]"
      ],
      "id": "7b304fb6",
      "execution_count": null,
      "outputs": [
        {
          "output_type": "execute_result",
          "data": {
            "text/plain": [
              "0        71\n",
              "1        86\n",
              "2        50\n",
              "3        76\n",
              "4        25\n",
              "         ..\n",
              "15460    41\n",
              "15461    43\n",
              "15462    57\n",
              "15463    38\n",
              "15464    29\n",
              "Name: attacking_heading_accuracy, Length: 15465, dtype: object"
            ]
          },
          "metadata": {},
          "execution_count": 76
        }
      ]
    },
    {
      "cell_type": "code",
      "metadata": {
        "colab": {
          "base_uri": "https://localhost:8080/"
        },
        "id": "8fc18e6a",
        "outputId": "a4b60299-a382-4d80-ef16-6e2da2b0fc97"
      },
      "source": [
        "print(\"The Shape of the data:- \", data.shape)"
      ],
      "id": "8fc18e6a",
      "execution_count": null,
      "outputs": [
        {
          "output_type": "stream",
          "name": "stdout",
          "text": [
            "The Shape of the data:-  (15465, 104)\n"
          ]
        }
      ]
    },
    {
      "cell_type": "code",
      "metadata": {
        "colab": {
          "base_uri": "https://localhost:8080/"
        },
        "id": "f73ffbc9",
        "outputId": "ba569a9b-dbde-452d-a700-d390dd57f5b9"
      },
      "source": [
        "data[\"overall\"]"
      ],
      "id": "f73ffbc9",
      "execution_count": null,
      "outputs": [
        {
          "output_type": "execute_result",
          "data": {
            "text/plain": [
              "0        93\n",
              "1        92\n",
              "2        90\n",
              "3        90\n",
              "4        90\n",
              "         ..\n",
              "15460    41\n",
              "15461    41\n",
              "15462    40\n",
              "15463    40\n",
              "15464    40\n",
              "Name: overall, Length: 15465, dtype: int64"
            ]
          },
          "metadata": {},
          "execution_count": 78
        }
      ]
    },
    {
      "cell_type": "code",
      "metadata": {
        "colab": {
          "base_uri": "https://localhost:8080/"
        },
        "id": "f085156c",
        "outputId": "f75b8b15-69a0-4503-d533-9bcf688b0fa3"
      },
      "source": [
        "print(list(data.columns))"
      ],
      "id": "f085156c",
      "execution_count": null,
      "outputs": [
        {
          "output_type": "stream",
          "name": "stdout",
          "text": [
            "['sofifa_id', 'player_url', 'short_name', 'long_name', 'age', 'dob', 'height_cm', 'weight_kg', 'nationality', 'club', 'overall', 'potential', 'value_eur', 'wage_eur', 'player_positions', 'preferred_foot', 'international_reputation', 'weak_foot', 'skill_moves', 'work_rate', 'body_type', 'real_face', 'release_clause_eur', 'player_tags', 'team_position', 'team_jersey_number', 'loaned_from', 'joined', 'contract_valid_until', 'nation_position', 'nation_jersey_number', 'pace', 'shooting', 'passing', 'dribbling', 'defending', 'physic', 'gk_diving', 'gk_handling', 'gk_kicking', 'gk_reflexes', 'gk_speed', 'gk_positioning', 'player_traits', 'attacking_crossing', 'attacking_finishing', 'attacking_heading_accuracy', 'attacking_short_passing', 'attacking_volleys', 'skill_dribbling', 'skill_curve', 'skill_fk_accuracy', 'skill_long_passing', 'skill_ball_control', 'movement_acceleration', 'movement_sprint_speed', 'movement_agility', 'movement_reactions', 'movement_balance', 'power_shot_power', 'power_jumping', 'power_stamina', 'power_strength', 'power_long_shots', 'mentality_aggression', 'mentality_interceptions', 'mentality_positioning', 'mentality_vision', 'mentality_penalties', 'mentality_composure', 'defending_marking', 'defending_standing_tackle', 'defending_sliding_tackle', 'goalkeeping_diving', 'goalkeeping_handling', 'goalkeeping_kicking', 'goalkeeping_positioning', 'goalkeeping_reflexes', 'ls', 'st', 'rs', 'lw', 'lf', 'cf', 'rf', 'rw', 'lam', 'cam', 'ram', 'lm', 'lcm', 'cm', 'rcm', 'rm', 'lwb', 'ldm', 'cdm', 'rdm', 'rwb', 'lb', 'lcb', 'cb', 'rcb', 'rb']\n"
          ]
        }
      ]
    },
    {
      "cell_type": "code",
      "metadata": {
        "colab": {
          "base_uri": "https://localhost:8080/",
          "height": 320
        },
        "id": "409a1bff",
        "outputId": "30b9f8f4-14aa-4d1f-faa3-186b28674d7e"
      },
      "source": [
        "data.describe()"
      ],
      "id": "409a1bff",
      "execution_count": null,
      "outputs": [
        {
          "output_type": "execute_result",
          "data": {
            "text/html": [
              "<div>\n",
              "<style scoped>\n",
              "    .dataframe tbody tr th:only-of-type {\n",
              "        vertical-align: middle;\n",
              "    }\n",
              "\n",
              "    .dataframe tbody tr th {\n",
              "        vertical-align: top;\n",
              "    }\n",
              "\n",
              "    .dataframe thead th {\n",
              "        text-align: right;\n",
              "    }\n",
              "</style>\n",
              "<table border=\"1\" class=\"dataframe\">\n",
              "  <thead>\n",
              "    <tr style=\"text-align: right;\">\n",
              "      <th></th>\n",
              "      <th>sofifa_id</th>\n",
              "      <th>age</th>\n",
              "      <th>height_cm</th>\n",
              "      <th>weight_kg</th>\n",
              "      <th>overall</th>\n",
              "      <th>potential</th>\n",
              "      <th>value_eur</th>\n",
              "      <th>wage_eur</th>\n",
              "      <th>international_reputation</th>\n",
              "      <th>weak_foot</th>\n",
              "      <th>skill_moves</th>\n",
              "      <th>release_clause_eur</th>\n",
              "      <th>team_jersey_number</th>\n",
              "      <th>contract_valid_until</th>\n",
              "      <th>nation_jersey_number</th>\n",
              "      <th>pace</th>\n",
              "      <th>shooting</th>\n",
              "      <th>passing</th>\n",
              "      <th>dribbling</th>\n",
              "      <th>defending</th>\n",
              "      <th>physic</th>\n",
              "      <th>gk_diving</th>\n",
              "      <th>gk_handling</th>\n",
              "      <th>gk_kicking</th>\n",
              "      <th>gk_reflexes</th>\n",
              "      <th>gk_speed</th>\n",
              "      <th>gk_positioning</th>\n",
              "      <th>mentality_composure</th>\n",
              "    </tr>\n",
              "  </thead>\n",
              "  <tbody>\n",
              "    <tr>\n",
              "      <th>count</th>\n",
              "      <td>15465.000000</td>\n",
              "      <td>15465.000000</td>\n",
              "      <td>15465.000000</td>\n",
              "      <td>15465.000000</td>\n",
              "      <td>15465.000000</td>\n",
              "      <td>15465.000000</td>\n",
              "      <td>15465.0</td>\n",
              "      <td>15465.0</td>\n",
              "      <td>15465.000000</td>\n",
              "      <td>15465.000000</td>\n",
              "      <td>15465.000000</td>\n",
              "      <td>0.0</td>\n",
              "      <td>15233.000000</td>\n",
              "      <td>15226.000000</td>\n",
              "      <td>1056.000000</td>\n",
              "      <td>13762.000000</td>\n",
              "      <td>13762.000000</td>\n",
              "      <td>13762.000000</td>\n",
              "      <td>13762.000000</td>\n",
              "      <td>13762.000000</td>\n",
              "      <td>13762.000000</td>\n",
              "      <td>1703.000000</td>\n",
              "      <td>1703.000000</td>\n",
              "      <td>1703.000000</td>\n",
              "      <td>1703.000000</td>\n",
              "      <td>1703.000000</td>\n",
              "      <td>1703.000000</td>\n",
              "      <td>0.0</td>\n",
              "    </tr>\n",
              "    <tr>\n",
              "      <th>mean</th>\n",
              "      <td>189298.588425</td>\n",
              "      <td>24.763272</td>\n",
              "      <td>181.093631</td>\n",
              "      <td>75.482703</td>\n",
              "      <td>63.948594</td>\n",
              "      <td>68.483091</td>\n",
              "      <td>0.0</td>\n",
              "      <td>0.0</td>\n",
              "      <td>1.126350</td>\n",
              "      <td>2.932363</td>\n",
              "      <td>2.267055</td>\n",
              "      <td>NaN</td>\n",
              "      <td>19.803584</td>\n",
              "      <td>2016.959740</td>\n",
              "      <td>12.026515</td>\n",
              "      <td>68.088432</td>\n",
              "      <td>51.671777</td>\n",
              "      <td>55.744223</td>\n",
              "      <td>60.617861</td>\n",
              "      <td>50.000799</td>\n",
              "      <td>64.602456</td>\n",
              "      <td>64.709336</td>\n",
              "      <td>60.823840</td>\n",
              "      <td>59.455079</td>\n",
              "      <td>65.955373</td>\n",
              "      <td>43.900763</td>\n",
              "      <td>61.230182</td>\n",
              "      <td>NaN</td>\n",
              "    </tr>\n",
              "    <tr>\n",
              "      <th>std</th>\n",
              "      <td>39648.820272</td>\n",
              "      <td>4.624565</td>\n",
              "      <td>6.635182</td>\n",
              "      <td>6.907243</td>\n",
              "      <td>7.208610</td>\n",
              "      <td>6.611708</td>\n",
              "      <td>0.0</td>\n",
              "      <td>0.0</td>\n",
              "      <td>0.401362</td>\n",
              "      <td>0.652270</td>\n",
              "      <td>0.719035</td>\n",
              "      <td>NaN</td>\n",
              "      <td>16.547682</td>\n",
              "      <td>2.069059</td>\n",
              "      <td>6.661003</td>\n",
              "      <td>11.004400</td>\n",
              "      <td>13.443599</td>\n",
              "      <td>10.765868</td>\n",
              "      <td>10.800142</td>\n",
              "      <td>15.850317</td>\n",
              "      <td>9.698882</td>\n",
              "      <td>7.855747</td>\n",
              "      <td>8.510626</td>\n",
              "      <td>8.689929</td>\n",
              "      <td>8.374343</td>\n",
              "      <td>8.440858</td>\n",
              "      <td>9.188257</td>\n",
              "      <td>NaN</td>\n",
              "    </tr>\n",
              "    <tr>\n",
              "      <th>min</th>\n",
              "      <td>2.000000</td>\n",
              "      <td>16.000000</td>\n",
              "      <td>155.000000</td>\n",
              "      <td>50.000000</td>\n",
              "      <td>40.000000</td>\n",
              "      <td>40.000000</td>\n",
              "      <td>0.0</td>\n",
              "      <td>0.0</td>\n",
              "      <td>1.000000</td>\n",
              "      <td>1.000000</td>\n",
              "      <td>1.000000</td>\n",
              "      <td>NaN</td>\n",
              "      <td>1.000000</td>\n",
              "      <td>2014.000000</td>\n",
              "      <td>1.000000</td>\n",
              "      <td>22.000000</td>\n",
              "      <td>22.000000</td>\n",
              "      <td>24.000000</td>\n",
              "      <td>25.000000</td>\n",
              "      <td>21.000000</td>\n",
              "      <td>28.000000</td>\n",
              "      <td>35.000000</td>\n",
              "      <td>36.000000</td>\n",
              "      <td>21.000000</td>\n",
              "      <td>31.000000</td>\n",
              "      <td>20.000000</td>\n",
              "      <td>38.000000</td>\n",
              "      <td>NaN</td>\n",
              "    </tr>\n",
              "    <tr>\n",
              "      <th>25%</th>\n",
              "      <td>178043.000000</td>\n",
              "      <td>21.000000</td>\n",
              "      <td>176.000000</td>\n",
              "      <td>70.000000</td>\n",
              "      <td>59.000000</td>\n",
              "      <td>64.000000</td>\n",
              "      <td>0.0</td>\n",
              "      <td>0.0</td>\n",
              "      <td>1.000000</td>\n",
              "      <td>3.000000</td>\n",
              "      <td>2.000000</td>\n",
              "      <td>NaN</td>\n",
              "      <td>8.000000</td>\n",
              "      <td>2015.000000</td>\n",
              "      <td>6.000000</td>\n",
              "      <td>62.000000</td>\n",
              "      <td>41.000000</td>\n",
              "      <td>49.000000</td>\n",
              "      <td>54.000000</td>\n",
              "      <td>33.000000</td>\n",
              "      <td>58.000000</td>\n",
              "      <td>59.000000</td>\n",
              "      <td>55.000000</td>\n",
              "      <td>53.000000</td>\n",
              "      <td>60.000000</td>\n",
              "      <td>39.000000</td>\n",
              "      <td>54.000000</td>\n",
              "      <td>NaN</td>\n",
              "    </tr>\n",
              "    <tr>\n",
              "      <th>50%</th>\n",
              "      <td>200844.000000</td>\n",
              "      <td>24.000000</td>\n",
              "      <td>181.000000</td>\n",
              "      <td>75.000000</td>\n",
              "      <td>64.000000</td>\n",
              "      <td>68.000000</td>\n",
              "      <td>0.0</td>\n",
              "      <td>0.0</td>\n",
              "      <td>1.000000</td>\n",
              "      <td>3.000000</td>\n",
              "      <td>2.000000</td>\n",
              "      <td>NaN</td>\n",
              "      <td>17.000000</td>\n",
              "      <td>2016.000000</td>\n",
              "      <td>12.000000</td>\n",
              "      <td>69.000000</td>\n",
              "      <td>53.000000</td>\n",
              "      <td>57.000000</td>\n",
              "      <td>62.000000</td>\n",
              "      <td>53.000000</td>\n",
              "      <td>66.000000</td>\n",
              "      <td>64.000000</td>\n",
              "      <td>61.000000</td>\n",
              "      <td>59.000000</td>\n",
              "      <td>65.000000</td>\n",
              "      <td>44.000000</td>\n",
              "      <td>61.000000</td>\n",
              "      <td>NaN</td>\n",
              "    </tr>\n",
              "    <tr>\n",
              "      <th>75%</th>\n",
              "      <td>214326.000000</td>\n",
              "      <td>28.000000</td>\n",
              "      <td>186.000000</td>\n",
              "      <td>80.000000</td>\n",
              "      <td>69.000000</td>\n",
              "      <td>73.000000</td>\n",
              "      <td>0.0</td>\n",
              "      <td>0.0</td>\n",
              "      <td>1.000000</td>\n",
              "      <td>3.000000</td>\n",
              "      <td>3.000000</td>\n",
              "      <td>NaN</td>\n",
              "      <td>26.000000</td>\n",
              "      <td>2019.000000</td>\n",
              "      <td>18.000000</td>\n",
              "      <td>76.000000</td>\n",
              "      <td>62.000000</td>\n",
              "      <td>63.000000</td>\n",
              "      <td>68.000000</td>\n",
              "      <td>63.000000</td>\n",
              "      <td>72.000000</td>\n",
              "      <td>70.000000</td>\n",
              "      <td>67.000000</td>\n",
              "      <td>65.000000</td>\n",
              "      <td>72.000000</td>\n",
              "      <td>49.000000</td>\n",
              "      <td>68.000000</td>\n",
              "      <td>NaN</td>\n",
              "    </tr>\n",
              "    <tr>\n",
              "      <th>max</th>\n",
              "      <td>225562.000000</td>\n",
              "      <td>44.000000</td>\n",
              "      <td>203.000000</td>\n",
              "      <td>110.000000</td>\n",
              "      <td>93.000000</td>\n",
              "      <td>95.000000</td>\n",
              "      <td>0.0</td>\n",
              "      <td>0.0</td>\n",
              "      <td>5.000000</td>\n",
              "      <td>5.000000</td>\n",
              "      <td>5.000000</td>\n",
              "      <td>NaN</td>\n",
              "      <td>99.000000</td>\n",
              "      <td>2021.000000</td>\n",
              "      <td>28.000000</td>\n",
              "      <td>97.000000</td>\n",
              "      <td>93.000000</td>\n",
              "      <td>91.000000</td>\n",
              "      <td>96.000000</td>\n",
              "      <td>90.000000</td>\n",
              "      <td>91.000000</td>\n",
              "      <td>88.000000</td>\n",
              "      <td>87.000000</td>\n",
              "      <td>92.000000</td>\n",
              "      <td>90.000000</td>\n",
              "      <td>66.000000</td>\n",
              "      <td>90.000000</td>\n",
              "      <td>NaN</td>\n",
              "    </tr>\n",
              "  </tbody>\n",
              "</table>\n",
              "</div>"
            ],
            "text/plain": [
              "           sofifa_id           age  ...  gk_positioning  mentality_composure\n",
              "count   15465.000000  15465.000000  ...     1703.000000                  0.0\n",
              "mean   189298.588425     24.763272  ...       61.230182                  NaN\n",
              "std     39648.820272      4.624565  ...        9.188257                  NaN\n",
              "min         2.000000     16.000000  ...       38.000000                  NaN\n",
              "25%    178043.000000     21.000000  ...       54.000000                  NaN\n",
              "50%    200844.000000     24.000000  ...       61.000000                  NaN\n",
              "75%    214326.000000     28.000000  ...       68.000000                  NaN\n",
              "max    225562.000000     44.000000  ...       90.000000                  NaN\n",
              "\n",
              "[8 rows x 28 columns]"
            ]
          },
          "metadata": {},
          "execution_count": 80
        }
      ]
    },
    {
      "cell_type": "code",
      "metadata": {
        "id": "3465da56"
      },
      "source": [
        "data.drop(['sofifa_id','player_url','long_name','dob','nation_jersey_number','loaned_from'], axis = 1, inplace=True)"
      ],
      "id": "3465da56",
      "execution_count": null,
      "outputs": []
    },
    {
      "cell_type": "code",
      "metadata": {
        "colab": {
          "base_uri": "https://localhost:8080/"
        },
        "id": "e54456dc",
        "outputId": "c23afb34-9ece-4fa1-fce2-358e60d1bb8a"
      },
      "source": [
        "data.isnull().sum().sum()"
      ],
      "id": "e54456dc",
      "execution_count": null,
      "outputs": [
        {
          "output_type": "execute_result",
          "data": {
            "text/plain": [
              "207614"
            ]
          },
          "metadata": {},
          "execution_count": 82
        }
      ]
    },
    {
      "cell_type": "code",
      "metadata": {
        "colab": {
          "base_uri": "https://localhost:8080/",
          "height": 206
        },
        "id": "94f3579c",
        "outputId": "2954f15b-a1ca-410b-9da6-64bf022d4905"
      },
      "source": [
        "null_data = data.isna().sum().sort_values(ascending=False)\n",
        "null_data = null_data.reset_index(drop = False)\n",
        "null_data = null_data.rename(columns={\"index\": \"Columns\", 0:\"Value\"})\n",
        "null_data['proportion'] = (null_data['Value']/len(data))*100\n",
        "null_data.head()\n"
      ],
      "id": "94f3579c",
      "execution_count": null,
      "outputs": [
        {
          "output_type": "execute_result",
          "data": {
            "text/html": [
              "<div>\n",
              "<style scoped>\n",
              "    .dataframe tbody tr th:only-of-type {\n",
              "        vertical-align: middle;\n",
              "    }\n",
              "\n",
              "    .dataframe tbody tr th {\n",
              "        vertical-align: top;\n",
              "    }\n",
              "\n",
              "    .dataframe thead th {\n",
              "        text-align: right;\n",
              "    }\n",
              "</style>\n",
              "<table border=\"1\" class=\"dataframe\">\n",
              "  <thead>\n",
              "    <tr style=\"text-align: right;\">\n",
              "      <th></th>\n",
              "      <th>Columns</th>\n",
              "      <th>Value</th>\n",
              "      <th>proportion</th>\n",
              "    </tr>\n",
              "  </thead>\n",
              "  <tbody>\n",
              "    <tr>\n",
              "      <th>0</th>\n",
              "      <td>mentality_composure</td>\n",
              "      <td>0</td>\n",
              "      <td>0.0</td>\n",
              "    </tr>\n",
              "    <tr>\n",
              "      <th>1</th>\n",
              "      <td>player_positions</td>\n",
              "      <td>0</td>\n",
              "      <td>0.0</td>\n",
              "    </tr>\n",
              "    <tr>\n",
              "      <th>2</th>\n",
              "      <td>body_type</td>\n",
              "      <td>0</td>\n",
              "      <td>0.0</td>\n",
              "    </tr>\n",
              "    <tr>\n",
              "      <th>3</th>\n",
              "      <td>work_rate</td>\n",
              "      <td>0</td>\n",
              "      <td>0.0</td>\n",
              "    </tr>\n",
              "    <tr>\n",
              "      <th>4</th>\n",
              "      <td>skill_moves</td>\n",
              "      <td>0</td>\n",
              "      <td>0.0</td>\n",
              "    </tr>\n",
              "  </tbody>\n",
              "</table>\n",
              "</div>"
            ],
            "text/plain": [
              "               Columns  Value  proportion\n",
              "0  mentality_composure      0         0.0\n",
              "1     player_positions      0         0.0\n",
              "2            body_type      0         0.0\n",
              "3            work_rate      0         0.0\n",
              "4          skill_moves      0         0.0"
            ]
          },
          "metadata": {},
          "execution_count": 119
        }
      ]
    },
    {
      "cell_type": "code",
      "metadata": {
        "colab": {
          "base_uri": "https://localhost:8080/",
          "height": 542
        },
        "id": "2797517a",
        "outputId": "2700db21-83dd-4a48-bc70-9ea83c0cc209"
      },
      "source": [
        "missing = null_data[null_data['proportion']>10]\n",
        "fig = px.pie(missing, names='Columns', values='proportion',\n",
        "             color_discrete_sequence=px.colors.sequential.Viridis_r,\n",
        "             title='Percentage of Missing values in Columns')\n",
        "fig.update_traces(textposition='inside', textinfo='label')\n",
        "fig.show()\n"
      ],
      "id": "2797517a",
      "execution_count": null,
      "outputs": [
        {
          "output_type": "display_data",
          "data": {
            "text/html": [
              "<html>\n",
              "<head><meta charset=\"utf-8\" /></head>\n",
              "<body>\n",
              "    <div>\n",
              "            <script src=\"https://cdnjs.cloudflare.com/ajax/libs/mathjax/2.7.5/MathJax.js?config=TeX-AMS-MML_SVG\"></script><script type=\"text/javascript\">if (window.MathJax) {MathJax.Hub.Config({SVG: {font: \"STIX-Web\"}});}</script>\n",
              "                <script type=\"text/javascript\">window.PlotlyConfig = {MathJaxConfig: 'local'};</script>\n",
              "        <script src=\"https://cdn.plot.ly/plotly-latest.min.js\"></script>    \n",
              "            <div id=\"c68e1565-ef92-4a2f-afc9-f8ed39c7a085\" class=\"plotly-graph-div\" style=\"height:525px; width:100%;\"></div>\n",
              "            <script type=\"text/javascript\">\n",
              "                \n",
              "                    window.PLOTLYENV=window.PLOTLYENV || {};\n",
              "                    \n",
              "                if (document.getElementById(\"c68e1565-ef92-4a2f-afc9-f8ed39c7a085\")) {\n",
              "                    Plotly.newPlot(\n",
              "                        'c68e1565-ef92-4a2f-afc9-f8ed39c7a085',\n",
              "                        [{\"domain\": {\"x\": [0.0, 1.0], \"y\": [0.0, 1.0]}, \"hoverlabel\": {\"namelength\": 0}, \"hovertemplate\": \"Columns=%{label}<br>proportion=%{value}\", \"labels\": [\"mentality_composure\", \"release_clause_eur\", \"nation_position\", \"player_tags\", \"gk_reflexes\", \"gk_speed\", \"gk_positioning\", \"gk_handling\", \"gk_diving\", \"gk_kicking\", \"player_traits\", \"rcb\", \"st\", \"ls\", \"shooting\", \"pace\", \"lw\", \"passing\", \"dribbling\", \"defending\", \"physic\", \"rs\", \"rb\", \"lf\", \"lam\", \"ram\", \"cam\", \"cf\", \"lm\", \"lcm\", \"cm\", \"rcm\", \"rm\", \"lwb\", \"ldm\", \"rw\", \"cdm\", \"rdm\", \"rwb\", \"lb\", \"lcb\", \"cb\", \"rf\"], \"legendgroup\": \"\", \"name\": \"\", \"showlegend\": true, \"textinfo\": \"label\", \"textposition\": \"inside\", \"type\": \"pie\", \"values\": [100.0, 100.0, 93.17167798254123, 92.27934044616876, 88.98803750404139, 88.98803750404139, 88.98803750404139, 88.98803750404139, 88.98803750404139, 88.98803750404139, 58.72615583575816, 11.011962495958617, 11.011962495958617, 11.011962495958617, 11.011962495958617, 11.011962495958617, 11.011962495958617, 11.011962495958617, 11.011962495958617, 11.011962495958617, 11.011962495958617, 11.011962495958617, 11.011962495958617, 11.011962495958617, 11.011962495958617, 11.011962495958617, 11.011962495958617, 11.011962495958617, 11.011962495958617, 11.011962495958617, 11.011962495958617, 11.011962495958617, 11.011962495958617, 11.011962495958617, 11.011962495958617, 11.011962495958617, 11.011962495958617, 11.011962495958617, 11.011962495958617, 11.011962495958617, 11.011962495958617, 11.011962495958617, 11.011962495958617]}],\n",
              "                        {\"legend\": {\"tracegroupgap\": 0}, \"piecolorway\": [\"#fde725\", \"#b5de2b\", \"#6ece58\", \"#35b779\", \"#1f9e89\", \"#26828e\", \"#31688e\", \"#3e4989\", \"#482878\", \"#440154\"], \"template\": {\"data\": {\"bar\": [{\"error_x\": {\"color\": \"#2a3f5f\"}, \"error_y\": {\"color\": \"#2a3f5f\"}, \"marker\": {\"line\": {\"color\": \"#E5ECF6\", \"width\": 0.5}}, \"type\": \"bar\"}], \"barpolar\": [{\"marker\": {\"line\": {\"color\": \"#E5ECF6\", \"width\": 0.5}}, \"type\": \"barpolar\"}], \"carpet\": [{\"aaxis\": {\"endlinecolor\": \"#2a3f5f\", \"gridcolor\": \"white\", \"linecolor\": \"white\", \"minorgridcolor\": \"white\", \"startlinecolor\": \"#2a3f5f\"}, \"baxis\": {\"endlinecolor\": \"#2a3f5f\", \"gridcolor\": \"white\", \"linecolor\": \"white\", \"minorgridcolor\": \"white\", \"startlinecolor\": \"#2a3f5f\"}, \"type\": \"carpet\"}], \"choropleth\": [{\"colorbar\": {\"outlinewidth\": 0, \"ticks\": \"\"}, \"type\": \"choropleth\"}], \"contour\": [{\"colorbar\": {\"outlinewidth\": 0, \"ticks\": \"\"}, \"colorscale\": [[0.0, \"#0d0887\"], [0.1111111111111111, \"#46039f\"], [0.2222222222222222, \"#7201a8\"], [0.3333333333333333, \"#9c179e\"], [0.4444444444444444, \"#bd3786\"], [0.5555555555555556, \"#d8576b\"], [0.6666666666666666, \"#ed7953\"], [0.7777777777777778, \"#fb9f3a\"], [0.8888888888888888, \"#fdca26\"], [1.0, \"#f0f921\"]], \"type\": \"contour\"}], \"contourcarpet\": [{\"colorbar\": {\"outlinewidth\": 0, \"ticks\": \"\"}, \"type\": \"contourcarpet\"}], \"heatmap\": [{\"colorbar\": {\"outlinewidth\": 0, \"ticks\": \"\"}, \"colorscale\": [[0.0, \"#0d0887\"], [0.1111111111111111, \"#46039f\"], [0.2222222222222222, \"#7201a8\"], [0.3333333333333333, \"#9c179e\"], [0.4444444444444444, \"#bd3786\"], [0.5555555555555556, \"#d8576b\"], [0.6666666666666666, \"#ed7953\"], [0.7777777777777778, \"#fb9f3a\"], [0.8888888888888888, \"#fdca26\"], [1.0, \"#f0f921\"]], \"type\": \"heatmap\"}], \"heatmapgl\": [{\"colorbar\": {\"outlinewidth\": 0, \"ticks\": \"\"}, \"colorscale\": [[0.0, \"#0d0887\"], [0.1111111111111111, \"#46039f\"], [0.2222222222222222, \"#7201a8\"], [0.3333333333333333, \"#9c179e\"], [0.4444444444444444, \"#bd3786\"], [0.5555555555555556, \"#d8576b\"], [0.6666666666666666, \"#ed7953\"], [0.7777777777777778, \"#fb9f3a\"], [0.8888888888888888, \"#fdca26\"], [1.0, \"#f0f921\"]], \"type\": \"heatmapgl\"}], \"histogram\": [{\"marker\": {\"colorbar\": {\"outlinewidth\": 0, \"ticks\": \"\"}}, \"type\": \"histogram\"}], \"histogram2d\": [{\"colorbar\": {\"outlinewidth\": 0, \"ticks\": \"\"}, \"colorscale\": [[0.0, \"#0d0887\"], [0.1111111111111111, \"#46039f\"], [0.2222222222222222, \"#7201a8\"], [0.3333333333333333, \"#9c179e\"], [0.4444444444444444, \"#bd3786\"], [0.5555555555555556, \"#d8576b\"], [0.6666666666666666, \"#ed7953\"], [0.7777777777777778, \"#fb9f3a\"], [0.8888888888888888, \"#fdca26\"], [1.0, \"#f0f921\"]], \"type\": \"histogram2d\"}], \"histogram2dcontour\": [{\"colorbar\": {\"outlinewidth\": 0, \"ticks\": \"\"}, \"colorscale\": [[0.0, \"#0d0887\"], [0.1111111111111111, \"#46039f\"], [0.2222222222222222, \"#7201a8\"], [0.3333333333333333, \"#9c179e\"], [0.4444444444444444, \"#bd3786\"], [0.5555555555555556, \"#d8576b\"], [0.6666666666666666, \"#ed7953\"], [0.7777777777777778, \"#fb9f3a\"], [0.8888888888888888, \"#fdca26\"], [1.0, \"#f0f921\"]], \"type\": \"histogram2dcontour\"}], \"mesh3d\": [{\"colorbar\": {\"outlinewidth\": 0, \"ticks\": \"\"}, \"type\": \"mesh3d\"}], \"parcoords\": [{\"line\": {\"colorbar\": {\"outlinewidth\": 0, \"ticks\": \"\"}}, \"type\": \"parcoords\"}], \"pie\": [{\"automargin\": true, \"type\": \"pie\"}], \"scatter\": [{\"marker\": {\"colorbar\": {\"outlinewidth\": 0, \"ticks\": \"\"}}, \"type\": \"scatter\"}], \"scatter3d\": [{\"line\": {\"colorbar\": {\"outlinewidth\": 0, \"ticks\": \"\"}}, \"marker\": {\"colorbar\": {\"outlinewidth\": 0, \"ticks\": \"\"}}, \"type\": \"scatter3d\"}], \"scattercarpet\": [{\"marker\": {\"colorbar\": {\"outlinewidth\": 0, \"ticks\": \"\"}}, \"type\": \"scattercarpet\"}], \"scattergeo\": [{\"marker\": {\"colorbar\": {\"outlinewidth\": 0, \"ticks\": \"\"}}, \"type\": \"scattergeo\"}], \"scattergl\": [{\"marker\": {\"colorbar\": {\"outlinewidth\": 0, \"ticks\": \"\"}}, \"type\": \"scattergl\"}], \"scattermapbox\": [{\"marker\": {\"colorbar\": {\"outlinewidth\": 0, \"ticks\": \"\"}}, \"type\": \"scattermapbox\"}], \"scatterpolar\": [{\"marker\": {\"colorbar\": {\"outlinewidth\": 0, \"ticks\": \"\"}}, \"type\": \"scatterpolar\"}], \"scatterpolargl\": [{\"marker\": {\"colorbar\": {\"outlinewidth\": 0, \"ticks\": \"\"}}, \"type\": \"scatterpolargl\"}], \"scatterternary\": [{\"marker\": {\"colorbar\": {\"outlinewidth\": 0, \"ticks\": \"\"}}, \"type\": \"scatterternary\"}], \"surface\": [{\"colorbar\": {\"outlinewidth\": 0, \"ticks\": \"\"}, \"colorscale\": [[0.0, \"#0d0887\"], [0.1111111111111111, \"#46039f\"], [0.2222222222222222, \"#7201a8\"], [0.3333333333333333, \"#9c179e\"], [0.4444444444444444, \"#bd3786\"], [0.5555555555555556, \"#d8576b\"], [0.6666666666666666, \"#ed7953\"], [0.7777777777777778, \"#fb9f3a\"], [0.8888888888888888, \"#fdca26\"], [1.0, \"#f0f921\"]], \"type\": \"surface\"}], \"table\": [{\"cells\": {\"fill\": {\"color\": \"#EBF0F8\"}, \"line\": {\"color\": \"white\"}}, \"header\": {\"fill\": {\"color\": \"#C8D4E3\"}, \"line\": {\"color\": \"white\"}}, \"type\": \"table\"}]}, \"layout\": {\"annotationdefaults\": {\"arrowcolor\": \"#2a3f5f\", \"arrowhead\": 0, \"arrowwidth\": 1}, \"coloraxis\": {\"colorbar\": {\"outlinewidth\": 0, \"ticks\": \"\"}}, \"colorscale\": {\"diverging\": [[0, \"#8e0152\"], [0.1, \"#c51b7d\"], [0.2, \"#de77ae\"], [0.3, \"#f1b6da\"], [0.4, \"#fde0ef\"], [0.5, \"#f7f7f7\"], [0.6, \"#e6f5d0\"], [0.7, \"#b8e186\"], [0.8, \"#7fbc41\"], [0.9, \"#4d9221\"], [1, \"#276419\"]], \"sequential\": [[0.0, \"#0d0887\"], [0.1111111111111111, \"#46039f\"], [0.2222222222222222, \"#7201a8\"], [0.3333333333333333, \"#9c179e\"], [0.4444444444444444, \"#bd3786\"], [0.5555555555555556, \"#d8576b\"], [0.6666666666666666, \"#ed7953\"], [0.7777777777777778, \"#fb9f3a\"], [0.8888888888888888, \"#fdca26\"], [1.0, \"#f0f921\"]], \"sequentialminus\": [[0.0, \"#0d0887\"], [0.1111111111111111, \"#46039f\"], [0.2222222222222222, \"#7201a8\"], [0.3333333333333333, \"#9c179e\"], [0.4444444444444444, \"#bd3786\"], [0.5555555555555556, \"#d8576b\"], [0.6666666666666666, \"#ed7953\"], [0.7777777777777778, \"#fb9f3a\"], [0.8888888888888888, \"#fdca26\"], [1.0, \"#f0f921\"]]}, \"colorway\": [\"#636efa\", \"#EF553B\", \"#00cc96\", \"#ab63fa\", \"#FFA15A\", \"#19d3f3\", \"#FF6692\", \"#B6E880\", \"#FF97FF\", \"#FECB52\"], \"font\": {\"color\": \"#2a3f5f\"}, \"geo\": {\"bgcolor\": \"white\", \"lakecolor\": \"white\", \"landcolor\": \"#E5ECF6\", \"showlakes\": true, \"showland\": true, \"subunitcolor\": \"white\"}, \"hoverlabel\": {\"align\": \"left\"}, \"hovermode\": \"closest\", \"mapbox\": {\"style\": \"light\"}, \"paper_bgcolor\": \"white\", \"plot_bgcolor\": \"#E5ECF6\", \"polar\": {\"angularaxis\": {\"gridcolor\": \"white\", \"linecolor\": \"white\", \"ticks\": \"\"}, \"bgcolor\": \"#E5ECF6\", \"radialaxis\": {\"gridcolor\": \"white\", \"linecolor\": \"white\", \"ticks\": \"\"}}, \"scene\": {\"xaxis\": {\"backgroundcolor\": \"#E5ECF6\", \"gridcolor\": \"white\", \"gridwidth\": 2, \"linecolor\": \"white\", \"showbackground\": true, \"ticks\": \"\", \"zerolinecolor\": \"white\"}, \"yaxis\": {\"backgroundcolor\": \"#E5ECF6\", \"gridcolor\": \"white\", \"gridwidth\": 2, \"linecolor\": \"white\", \"showbackground\": true, \"ticks\": \"\", \"zerolinecolor\": \"white\"}, \"zaxis\": {\"backgroundcolor\": \"#E5ECF6\", \"gridcolor\": \"white\", \"gridwidth\": 2, \"linecolor\": \"white\", \"showbackground\": true, \"ticks\": \"\", \"zerolinecolor\": \"white\"}}, \"shapedefaults\": {\"line\": {\"color\": \"#2a3f5f\"}}, \"ternary\": {\"aaxis\": {\"gridcolor\": \"white\", \"linecolor\": \"white\", \"ticks\": \"\"}, \"baxis\": {\"gridcolor\": \"white\", \"linecolor\": \"white\", \"ticks\": \"\"}, \"bgcolor\": \"#E5ECF6\", \"caxis\": {\"gridcolor\": \"white\", \"linecolor\": \"white\", \"ticks\": \"\"}}, \"title\": {\"x\": 0.05}, \"xaxis\": {\"automargin\": true, \"gridcolor\": \"white\", \"linecolor\": \"white\", \"ticks\": \"\", \"title\": {\"standoff\": 15}, \"zerolinecolor\": \"white\", \"zerolinewidth\": 2}, \"yaxis\": {\"automargin\": true, \"gridcolor\": \"white\", \"linecolor\": \"white\", \"ticks\": \"\", \"title\": {\"standoff\": 15}, \"zerolinecolor\": \"white\", \"zerolinewidth\": 2}}}, \"title\": {\"text\": \"Percentage of Missing values in Columns\"}},\n",
              "                        {\"responsive\": true}\n",
              "                    ).then(function(){\n",
              "                            \n",
              "var gd = document.getElementById('c68e1565-ef92-4a2f-afc9-f8ed39c7a085');\n",
              "var x = new MutationObserver(function (mutations, observer) {{\n",
              "        var display = window.getComputedStyle(gd).display;\n",
              "        if (!display || display === 'none') {{\n",
              "            console.log([gd, 'removed!']);\n",
              "            Plotly.purge(gd);\n",
              "            observer.disconnect();\n",
              "        }}\n",
              "}});\n",
              "\n",
              "// Listen for the removal of the full notebook cells\n",
              "var notebookContainer = gd.closest('#notebook-container');\n",
              "if (notebookContainer) {{\n",
              "    x.observe(notebookContainer, {childList: true});\n",
              "}}\n",
              "\n",
              "// Listen for the clearing of the current output cell\n",
              "var outputEl = gd.closest('.output');\n",
              "if (outputEl) {{\n",
              "    x.observe(outputEl, {childList: true});\n",
              "}}\n",
              "\n",
              "                        })\n",
              "                };\n",
              "                \n",
              "            </script>\n",
              "        </div>\n",
              "</body>\n",
              "</html>"
            ]
          },
          "metadata": {}
        }
      ]
    },
    {
      "cell_type": "code",
      "metadata": {
        "id": "88a1444e"
      },
      "source": [
        "numeric_features = ['age','height_cm','weight_kg','overall','potential','value_eur',\n",
        "                 'wage_eur','international_reputation','weak_foot',\n",
        "                 'skill_moves','release_clause_eur']\n",
        "numeric_dataset1 = data[numeric_features]\n"
      ],
      "id": "88a1444e",
      "execution_count": null,
      "outputs": []
    },
    {
      "cell_type": "code",
      "metadata": {
        "colab": {
          "base_uri": "https://localhost:8080/",
          "height": 1000
        },
        "id": "bfde9c27",
        "outputId": "07daa729-7218-465a-fcb3-7cd14d6cd71e"
      },
      "source": [
        "#checking for outliers in all the numeric features\n",
        "for col in numeric_dataset1.columns:\n",
        "    sns.boxplot(x = col, data = data) \n",
        "    plt.show()"
      ],
      "id": "bfde9c27",
      "execution_count": null,
      "outputs": [
        {
          "output_type": "display_data",
          "data": {
            "image/png": "[encoded data removed]",
            "text/plain": [
              "<Figure size 432x288 with 1 Axes>"
            ]
          },
          "metadata": {
            "needs_background": "light"
          }
        },
        {
          "output_type": "display_data",
          "data": {
            "image/png": "[encoded data removed]",
            "text/plain": [
              "<Figure size 432x288 with 1 Axes>"
            ]
          },
          "metadata": {
            "needs_background": "light"
          }
        },
        {
          "output_type": "display_data",
          "data": {
            "image/png": "[encoded data removed]",
            "text/plain": [
              "<Figure size 432x288 with 1 Axes>"
            ]
          },
          "metadata": {
            "needs_background": "light"
          }
        },
        {
          "output_type": "display_data",
          "data": {
            "image/png": "[encoded data removed]",
            "text/plain": [
              "<Figure size 432x288 with 1 Axes>"
            ]
          },
          "metadata": {
            "needs_background": "light"
          }
        },
        {
          "output_type": "display_data",
          "data": {
            "image/png": "[encoded data removed]",
            "text/plain": [
              "<Figure size 432x288 with 1 Axes>"
            ]
          },
          "metadata": {
            "needs_background": "light"
          }
        },
        {
          "output_type": "display_data",
          "data": {
            "image/png": "[encoded data removed]",
            "text/plain": [
              "<Figure size 432x288 with 1 Axes>"
            ]
          },
          "metadata": {
            "needs_background": "light"
          }
        },
        {
          "output_type": "display_data",
          "data": {
            "image/png": "[encoded data removed]",
            "text/plain": [
              "<Figure size 432x288 with 1 Axes>"
            ]
          },
          "metadata": {
            "needs_background": "light"
          }
        },
        {
          "output_type": "display_data",
          "data": {
            "image/png": "[encoded data removed]",
            "text/plain": [
              "<Figure size 432x288 with 1 Axes>"
            ]
          },
          "metadata": {
            "needs_background": "light"
          }
        },
        {
          "output_type": "display_data",
          "data": {
            "image/png": "[encoded data removed]",
            "text/plain": [
              "<Figure size 432x288 with 1 Axes>"
            ]
          },
          "metadata": {
            "needs_background": "light"
          }
        },
        {
          "output_type": "display_data",
          "data": {
            "image/png": "[encoded data removed]",
            "text/plain": [
              "<Figure size 432x288 with 1 Axes>"
            ]
          },
          "metadata": {
            "needs_background": "light"
          }
        },
        {
          "output_type": "display_data",
          "data": {
            "image/png": "[encoded data removed]",
            "text/plain": [
              "<Figure size 432x288 with 1 Axes>"
            ]
          },
          "metadata": {
            "needs_background": "light"
          }
        }
      ]
    },
    {
      "cell_type": "markdown",
      "metadata": {
        "id": "5970329d"
      },
      "source": [
        "### Feature Transformation"
      ],
      "id": "5970329d"
    },
    {
      "cell_type": "code",
      "metadata": {
        "scrolled": true,
        "id": "23f25567"
      },
      "source": [
        "col_of_object = list(data.select_dtypes(['object']).columns)\n"
      ],
      "id": "23f25567",
      "execution_count": null,
      "outputs": []
    },
    {
      "cell_type": "code",
      "metadata": {
        "id": "865b0bbe"
      },
      "source": [
        "from sklearn.preprocessing import LabelEncoder\n",
        "labelencoder = LabelEncoder()\n",
        "for i in col_of_object: \n",
        "    data[i] = labelencoder.fit_transform(data[i])"
      ],
      "id": "865b0bbe",
      "execution_count": null,
      "outputs": []
    },
    {
      "cell_type": "code",
      "metadata": {
        "scrolled": true,
        "colab": {
          "base_uri": "https://localhost:8080/"
        },
        "id": "6017037e",
        "outputId": "72610532-f9ea-4ce3-8ad5-65753dd38e7b"
      },
      "source": [
        "data.info()"
      ],
      "id": "6017037e",
      "execution_count": null,
      "outputs": [
        {
          "output_type": "stream",
          "name": "stdout",
          "text": [
            "<class 'pandas.core.frame.DataFrame'>\n",
            "RangeIndex: 15465 entries, 0 to 15464\n",
            "Data columns (total 98 columns):\n",
            " #   Column                      Non-Null Count  Dtype  \n",
            "---  ------                      --------------  -----  \n",
            " 0   short_name                  15465 non-null  int64  \n",
            " 1   age                         15465 non-null  int64  \n",
            " 2   height_cm                   15465 non-null  int64  \n",
            " 3   weight_kg                   15465 non-null  int64  \n",
            " 4   nationality                 15465 non-null  int64  \n",
            " 5   club                        15465 non-null  int64  \n",
            " 6   overall                     15465 non-null  int64  \n",
            " 7   potential                   15465 non-null  int64  \n",
            " 8   value_eur                   15465 non-null  int64  \n",
            " 9   wage_eur                    15465 non-null  int64  \n",
            " 10  player_positions            15465 non-null  int64  \n",
            " 11  preferred_foot              15465 non-null  int64  \n",
            " 12  international_reputation    15465 non-null  int64  \n",
            " 13  weak_foot                   15465 non-null  int64  \n",
            " 14  skill_moves                 15465 non-null  int64  \n",
            " 15  work_rate                   15465 non-null  int64  \n",
            " 16  body_type                   15465 non-null  int64  \n",
            " 17  real_face                   15465 non-null  int64  \n",
            " 18  release_clause_eur          0 non-null      float64\n",
            " 19  player_tags                 15465 non-null  int64  \n",
            " 20  team_position               15465 non-null  int64  \n",
            " 21  team_jersey_number          15233 non-null  float64\n",
            " 22  joined                      15465 non-null  int64  \n",
            " 23  contract_valid_until        15226 non-null  float64\n",
            " 24  nation_position             15465 non-null  int64  \n",
            " 25  pace                        13762 non-null  float64\n",
            " 26  shooting                    13762 non-null  float64\n",
            " 27  passing                     13762 non-null  float64\n",
            " 28  dribbling                   13762 non-null  float64\n",
            " 29  defending                   13762 non-null  float64\n",
            " 30  physic                      13762 non-null  float64\n",
            " 31  gk_diving                   1703 non-null   float64\n",
            " 32  gk_handling                 1703 non-null   float64\n",
            " 33  gk_kicking                  1703 non-null   float64\n",
            " 34  gk_reflexes                 1703 non-null   float64\n",
            " 35  gk_speed                    1703 non-null   float64\n",
            " 36  gk_positioning              1703 non-null   float64\n",
            " 37  player_traits               15465 non-null  int64  \n",
            " 38  attacking_crossing          15465 non-null  int64  \n",
            " 39  attacking_finishing         15465 non-null  int64  \n",
            " 40  attacking_heading_accuracy  15465 non-null  int64  \n",
            " 41  attacking_short_passing     15465 non-null  int64  \n",
            " 42  attacking_volleys           15465 non-null  int64  \n",
            " 43  skill_dribbling             15465 non-null  int64  \n",
            " 44  skill_curve                 15465 non-null  int64  \n",
            " 45  skill_fk_accuracy           15465 non-null  int64  \n",
            " 46  skill_long_passing          15465 non-null  int64  \n",
            " 47  skill_ball_control          15465 non-null  int64  \n",
            " 48  movement_acceleration       15465 non-null  int64  \n",
            " 49  movement_sprint_speed       15465 non-null  int64  \n",
            " 50  movement_agility            15465 non-null  int64  \n",
            " 51  movement_reactions          15465 non-null  int64  \n",
            " 52  movement_balance            15465 non-null  int64  \n",
            " 53  power_shot_power            15465 non-null  int64  \n",
            " 54  power_jumping               15465 non-null  int64  \n",
            " 55  power_stamina               15465 non-null  int64  \n",
            " 56  power_strength              15465 non-null  int64  \n",
            " 57  power_long_shots            15465 non-null  int64  \n",
            " 58  mentality_aggression        15465 non-null  int64  \n",
            " 59  mentality_interceptions     15465 non-null  int64  \n",
            " 60  mentality_positioning       15465 non-null  int64  \n",
            " 61  mentality_vision            15465 non-null  int64  \n",
            " 62  mentality_penalties         15465 non-null  int64  \n",
            " 63  mentality_composure         0 non-null      float64\n",
            " 64  defending_marking           15465 non-null  int64  \n",
            " 65  defending_standing_tackle   15465 non-null  int64  \n",
            " 66  defending_sliding_tackle    15465 non-null  int64  \n",
            " 67  goalkeeping_diving          15465 non-null  int64  \n",
            " 68  goalkeeping_handling        15465 non-null  int64  \n",
            " 69  goalkeeping_kicking         15465 non-null  int64  \n",
            " 70  goalkeeping_positioning     15465 non-null  int64  \n",
            " 71  goalkeeping_reflexes        15465 non-null  int64  \n",
            " 72  ls                          15465 non-null  int64  \n",
            " 73  st                          15465 non-null  int64  \n",
            " 74  rs                          15465 non-null  int64  \n",
            " 75  lw                          15465 non-null  int64  \n",
            " 76  lf                          15465 non-null  int64  \n",
            " 77  cf                          15465 non-null  int64  \n",
            " 78  rf                          15465 non-null  int64  \n",
            " 79  rw                          15465 non-null  int64  \n",
            " 80  lam                         15465 non-null  int64  \n",
            " 81  cam                         15465 non-null  int64  \n",
            " 82  ram                         15465 non-null  int64  \n",
            " 83  lm                          15465 non-null  int64  \n",
            " 84  lcm                         15465 non-null  int64  \n",
            " 85  cm                          15465 non-null  int64  \n",
            " 86  rcm                         15465 non-null  int64  \n",
            " 87  rm                          15465 non-null  int64  \n",
            " 88  lwb                         15465 non-null  int64  \n",
            " 89  ldm                         15465 non-null  int64  \n",
            " 90  cdm                         15465 non-null  int64  \n",
            " 91  rdm                         15465 non-null  int64  \n",
            " 92  rwb                         15465 non-null  int64  \n",
            " 93  lb                          15465 non-null  int64  \n",
            " 94  lcb                         15465 non-null  int64  \n",
            " 95  cb                          15465 non-null  int64  \n",
            " 96  rcb                         15465 non-null  int64  \n",
            " 97  rb                          15465 non-null  int64  \n",
            "dtypes: float64(16), int64(82)\n",
            "memory usage: 11.6 MB\n"
          ]
        }
      ]
    },
    {
      "cell_type": "markdown",
      "metadata": {
        "id": "0134f4ac"
      },
      "source": [
        "### Feature Selection"
      ],
      "id": "0134f4ac"
    },
    {
      "cell_type": "code",
      "metadata": {
        "id": "9111447e"
      },
      "source": [
        "cor = data.corr()"
      ],
      "id": "9111447e",
      "execution_count": null,
      "outputs": []
    },
    {
      "cell_type": "code",
      "metadata": {
        "id": "d7f4ec29"
      },
      "source": [
        "def correlation(dataset, threshold):\n",
        "    col_corr = set()  # Set of all the names of correlated columns\n",
        "    corr_matrix = dataset.corr()\n",
        "    for i in range(len(corr_matrix.columns)):\n",
        "        for j in range(i):\n",
        "            if abs(corr_matrix.iloc[i, j]) > threshold: # we are interested in absolute coeff value\n",
        "                colname = corr_matrix.columns[i]  # getting the name of column\n",
        "                col_corr.add(colname)\n",
        "    return col_corr\n",
        "corr_features = correlation(data, 0.7)\n"
      ],
      "id": "d7f4ec29",
      "execution_count": null,
      "outputs": []
    },
    {
      "cell_type": "code",
      "metadata": {
        "id": "6a91dc64"
      },
      "source": [
        "data.drop(corr_features, axis=1, inplace=True)"
      ],
      "id": "6a91dc64",
      "execution_count": null,
      "outputs": []
    },
    {
      "cell_type": "code",
      "metadata": {
        "colab": {
          "base_uri": "https://localhost:8080/"
        },
        "id": "adec132d",
        "outputId": "11a06615-bd4a-42ae-d389-d6373cf776f1"
      },
      "source": [
        "data.shape"
      ],
      "id": "adec132d",
      "execution_count": null,
      "outputs": [
        {
          "output_type": "execute_result",
          "data": {
            "text/plain": [
              "(15465, 34)"
            ]
          },
          "metadata": {},
          "execution_count": 93
        }
      ]
    },
    {
      "cell_type": "markdown",
      "metadata": {
        "id": "2f449322"
      },
      "source": [
        "### Dataset Development"
      ],
      "id": "2f449322"
    },
    {
      "cell_type": "code",
      "metadata": {
        "id": "b7ff07f7"
      },
      "source": [
        "cols_to_preserve = [\n",
        "\"joined\" ,\n",
        "\"power_jumping\",\n",
        "\"power_stamina\",\n",
        "\"passing\" ,\n",
        "\"team_jersey_number\" ,\n",
        "\"defending\" ,\n",
        "\"shooting\" ,\n",
        "\"attacking_heading_accuracy\" ,\n",
        "\"height_cm\" ,\n",
        "\"age\" ] "
      ],
      "id": "b7ff07f7",
      "execution_count": null,
      "outputs": []
    },
    {
      "cell_type": "code",
      "metadata": {
        "id": "14a6609d"
      },
      "source": [
        "from sklearn.model_selection import train_test_split\n",
        "\n",
        "data.fillna(0, inplace=True) \n",
        "X = data [cols_to_preserve]\n",
        "y = data[\"overall\"]\n",
        "\n",
        "X_train, X_test, y_train, y_test = train_test_split(X.values, y.values, test_size = 0.3, random_state = 0)"
      ],
      "id": "14a6609d",
      "execution_count": null,
      "outputs": []
    },
    {
      "cell_type": "markdown",
      "metadata": {
        "id": "5f663ba1"
      },
      "source": [
        "### Model Development "
      ],
      "id": "5f663ba1"
    },
    {
      "cell_type": "code",
      "metadata": {
        "id": "e107a7d0"
      },
      "source": [
        "from sklearn.metrics import mean_squared_error, mean_absolute_error, r2_score\n",
        "    \n",
        "def evaluating_model(y_test, y_pred):  \n",
        "    ''' \n",
        "    Function for evaluating our models.\n",
        "    '''\n",
        "    print(\"MSE\", mean_squared_error(y_test, y_pred)) \n",
        "    print(\"RMSE\", np.sqrt(mean_squared_error(y_test, y_pred)))\n",
        "    print(\"MAE\", mean_absolute_error(y_test, y_pred)) \n",
        "    print(\"r2 score\", r2_score(y_test, y_pred))"
      ],
      "id": "e107a7d0",
      "execution_count": null,
      "outputs": []
    },
    {
      "cell_type": "code",
      "metadata": {
        "id": "b4eff06b"
      },
      "source": [
        "from sklearn.linear_model import LinearRegression \n",
        "\n",
        "lr_clf = LinearRegression() \n",
        "lr_clf.fit(X_train, y_train) \n",
        "lr_clf_pred = lr_clf.predict(X_test) "
      ],
      "id": "b4eff06b",
      "execution_count": null,
      "outputs": []
    },
    {
      "cell_type": "code",
      "metadata": {
        "colab": {
          "base_uri": "https://localhost:8080/"
        },
        "id": "4cbf58cf",
        "outputId": "2265c1ce-e898-4bd0-cfe1-1d3ad7f01109"
      },
      "source": [
        "y_pred = lr_clf.predict(X_test)\n",
        "evaluating_model(y_test, y_pred)"
      ],
      "id": "4cbf58cf",
      "execution_count": null,
      "outputs": [
        {
          "output_type": "stream",
          "name": "stdout",
          "text": [
            "MSE 28.366891593638883\n",
            "RMSE 5.326057791053237\n",
            "MAE 4.169559429048852\n",
            "r2 score 0.44239782451677234\n"
          ]
        }
      ]
    },
    {
      "cell_type": "code",
      "metadata": {
        "colab": {
          "base_uri": "https://localhost:8080/"
        },
        "id": "924f4d74",
        "outputId": "de11bdf4-9356-40da-a9a5-be99236a6e6c"
      },
      "source": [
        "from sklearn.pipeline import make_pipeline\n",
        "from sklearn.preprocessing import StandardScaler\n",
        "\n",
        "lr_clf_pip = make_pipeline(StandardScaler(), LinearRegression()) \n",
        "lr_clf_pip.fit(X_train, y_train) \n",
        "\n",
        "y_pred1 = lr_clf_pip.predict(X_test)\n",
        "evaluating_model(y_test,y_pred1)"
      ],
      "id": "924f4d74",
      "execution_count": null,
      "outputs": [
        {
          "output_type": "stream",
          "name": "stdout",
          "text": [
            "MSE 28.36689159363888\n",
            "RMSE 5.326057791053237\n",
            "MAE 4.16955942904885\n",
            "r2 score 0.44239782451677245\n"
          ]
        }
      ]
    },
    {
      "cell_type": "code",
      "metadata": {
        "colab": {
          "base_uri": "https://localhost:8080/"
        },
        "id": "c0aedb8b",
        "outputId": "eee4d551-6fee-4995-f464-ec3ec48f1d49"
      },
      "source": [
        "from sklearn.tree import DecisionTreeRegressor\n",
        "from sklearn.model_selection import RandomizedSearchCV \n",
        "\n",
        "def randomized_search(params, runs=20, clf=DecisionTreeRegressor(random_state=2)): \n",
        "    rand_clf = RandomizedSearchCV(clf, params, n_iter=runs, cv=5, n_jobs=-1, random_state=2) \n",
        "    rand_clf.fit(X_train, y_train) \n",
        "    best_model = rand_clf.best_estimator_\n",
        "    best_score = rand_clf.best_score_\n",
        "\n",
        "    print(\"Training score: {:.3f}\".format(best_score))\n",
        "    y_pred = best_model.predict(X_test)\n",
        "    \n",
        "    return best_model\n",
        "\n",
        "randomized_search(params={'criterion':[\"squared_error\", \"friedman_mse\"],\n",
        "                              'splitter':['random', 'best'],\n",
        "                          'min_weight_fraction_leaf':[0.0, 0.0025, 0.005, 0.0075, 0.01],\n",
        "                          'min_samples_split':[2, 3, 4, 5, 6, 8, 10],\n",
        "                          'min_samples_leaf':[1, 0.01, 0.02, 0.03, 0.04],\n",
        "                          'min_impurity_decrease':[0.0, 0.0005, 0.005, 0.05, 0.10, 0.15, 0.2],\n",
        "                          'max_leaf_nodes':[10, 15, 20, 25, 30, 35, 40, 45, 50, None],\n",
        "                          'max_features':['auto', 0.95, 0.90, 0.85, 0.80, 0.75, 0.70],\n",
        "                          'max_depth':[None, 2,4,6,8,100],\n",
        "                          'min_weight_fraction_leaf':[0.0, 0.0025, 0.005, 0.0075, 0.01, 0.05]\n",
        "                         })"
      ],
      "id": "c0aedb8b",
      "execution_count": null,
      "outputs": [
        {
          "output_type": "stream",
          "name": "stdout",
          "text": [
            "Training score: 0.753\n"
          ]
        },
        {
          "output_type": "execute_result",
          "data": {
            "text/plain": [
              "DecisionTreeRegressor(criterion='friedman_mse', max_depth=100, max_features=0.9,\n",
              "                      min_impurity_decrease=0.0005, min_samples_leaf=0.02,\n",
              "                      min_samples_split=3, min_weight_fraction_leaf=0.0025,\n",
              "                      random_state=2)"
            ]
          },
          "metadata": {},
          "execution_count": 100
        }
      ]
    },
    {
      "cell_type": "code",
      "metadata": {
        "colab": {
          "base_uri": "https://localhost:8080/"
        },
        "id": "a7a5533c",
        "outputId": "379109d8-b20a-4582-94d5-436096622880"
      },
      "source": [
        "ds_clf = DecisionTreeRegressor(criterion='friedman_mse', max_depth=100, max_features=0.9,\n",
        "                      min_impurity_decrease=0.0005, min_samples_leaf=0.02,\n",
        "                      min_samples_split=3, min_weight_fraction_leaf=0.0025,\n",
        "                      random_state=2) \n",
        "ds_clf.fit(X_train, y_train) \n",
        "pred4 = ds_clf.predict(X_test) \n",
        "evaluating_model(y_test, pred4)"
      ],
      "id": "a7a5533c",
      "execution_count": null,
      "outputs": [
        {
          "output_type": "stream",
          "name": "stdout",
          "text": [
            "MSE 12.135024256881968\n",
            "RMSE 3.4835361713181574\n",
            "MAE 2.5776636824014307\n",
            "r2 score 0.761464314733149\n"
          ]
        }
      ]
    },
    {
      "cell_type": "code",
      "metadata": {
        "colab": {
          "base_uri": "https://localhost:8080/"
        },
        "id": "f597ce67",
        "outputId": "3d73aa74-72f8-44a9-d4ad-49c6c88bd9d4"
      },
      "source": [
        "from sklearn.ensemble import RandomForestRegressor\n",
        "\n",
        "randomized_search(params={\n",
        "                         'min_samples_leaf':[1,2,4,6,8,10,20,30],\n",
        "                          'min_impurity_decrease':[0.0, 0.01, 0.05, 0.10, 0.15, 0.2],\n",
        "                          'max_features':['auto', 0.8, 0.7, 0.6, 0.5, 0.4],\n",
        "                          'max_depth':[None,2,100,200,8,250,300], \n",
        "                         }, clf=RandomForestRegressor(random_state=2))"
      ],
      "id": "f597ce67",
      "execution_count": null,
      "outputs": [
        {
          "output_type": "stream",
          "name": "stdout",
          "text": [
            "Training score: 0.866\n"
          ]
        },
        {
          "output_type": "execute_result",
          "data": {
            "text/plain": [
              "RandomForestRegressor(max_depth=100, max_features=0.7, min_samples_leaf=4,\n",
              "                      random_state=2)"
            ]
          },
          "metadata": {},
          "execution_count": 102
        }
      ]
    },
    {
      "cell_type": "code",
      "metadata": {
        "colab": {
          "base_uri": "https://localhost:8080/"
        },
        "id": "613feec5",
        "outputId": "676b39e9-5f5c-428b-e80d-4a0de05070e6"
      },
      "source": [
        "rf_clf = RandomForestRegressor(max_depth=100, max_features=0.7, min_samples_leaf=4,\n",
        "                       random_state=2) \n",
        "rf_clf.fit(X_train, y_train)  \n",
        "pred5 = rf_clf.predict(X_test) \n",
        "evaluating_model(y_test, pred5)\n"
      ],
      "id": "613feec5",
      "execution_count": null,
      "outputs": [
        {
          "output_type": "stream",
          "name": "stdout",
          "text": [
            "MSE 6.894503006674097\n",
            "RMSE 2.625738564037573\n",
            "MAE 1.8125076717701405\n",
            "r2 score 0.8644761671293159\n"
          ]
        }
      ]
    },
    {
      "cell_type": "code",
      "metadata": {
        "scrolled": true,
        "colab": {
          "base_uri": "https://localhost:8080/"
        },
        "id": "e6536f8c",
        "outputId": "a84ffa18-68f8-4ec7-9a81-edb59de242b3"
      },
      "source": [
        "from xgboost import XGBRegressor\n",
        "model = XGBRegressor(\n",
        "    max_depth=10,\n",
        "    n_estimators=1000,\n",
        "    min_child_weight=0.5, \n",
        "    colsample_bytree=0.8, \n",
        "    subsample=0.8, \n",
        "    eta=0.1,\n",
        "    seed=42)\n",
        "\n",
        "model.fit(\n",
        "    X_train, \n",
        "    y_train, \n",
        "    eval_metric=\"rmse\", \n",
        "    eval_set=[(X_train, y_train), (X_test, y_test)], \n",
        "    verbose=True, \n",
        "    early_stopping_rounds = 20)\n"
      ],
      "id": "e6536f8c",
      "execution_count": null,
      "outputs": [
        {
          "output_type": "stream",
          "name": "stdout",
          "text": [
            "[10:37:53] WARNING: /workspace/src/objective/regression_obj.cu:152: reg:linear is now deprecated in favor of reg:squarederror.\n",
            "[0]\tvalidation_0-rmse:57.5421\tvalidation_1-rmse:57.4397\n",
            "Multiple eval metrics have been passed: 'validation_1-rmse' will be used for early stopping.\n",
            "\n",
            "Will train until validation_1-rmse hasn't improved in 20 rounds.\n",
            "[1]\tvalidation_0-rmse:51.8227\tvalidation_1-rmse:51.7252\n",
            "[2]\tvalidation_0-rmse:46.6814\tvalidation_1-rmse:46.5829\n",
            "[3]\tvalidation_0-rmse:42.0503\tvalidation_1-rmse:41.9599\n",
            "[4]\tvalidation_0-rmse:37.8883\tvalidation_1-rmse:37.7979\n",
            "[5]\tvalidation_0-rmse:34.1451\tvalidation_1-rmse:34.0546\n",
            "[6]\tvalidation_0-rmse:30.7756\tvalidation_1-rmse:30.6858\n",
            "[7]\tvalidation_0-rmse:27.7407\tvalidation_1-rmse:27.6587\n",
            "[8]\tvalidation_0-rmse:25.0093\tvalidation_1-rmse:24.9347\n",
            "[9]\tvalidation_0-rmse:22.5591\tvalidation_1-rmse:22.4869\n",
            "[10]\tvalidation_0-rmse:20.351\tvalidation_1-rmse:20.287\n",
            "[11]\tvalidation_0-rmse:18.3687\tvalidation_1-rmse:18.3081\n",
            "[12]\tvalidation_0-rmse:16.5849\tvalidation_1-rmse:16.5289\n",
            "[13]\tvalidation_0-rmse:14.9805\tvalidation_1-rmse:14.9331\n",
            "[14]\tvalidation_0-rmse:13.5403\tvalidation_1-rmse:13.5019\n",
            "[15]\tvalidation_0-rmse:12.2468\tvalidation_1-rmse:12.2141\n",
            "[16]\tvalidation_0-rmse:11.0898\tvalidation_1-rmse:11.0639\n",
            "[17]\tvalidation_0-rmse:10.0508\tvalidation_1-rmse:10.0323\n",
            "[18]\tvalidation_0-rmse:9.11779\tvalidation_1-rmse:9.10942\n",
            "[19]\tvalidation_0-rmse:8.28659\tvalidation_1-rmse:8.2934\n",
            "[20]\tvalidation_0-rmse:7.54073\tvalidation_1-rmse:7.56318\n",
            "[21]\tvalidation_0-rmse:6.8717\tvalidation_1-rmse:6.90902\n",
            "[22]\tvalidation_0-rmse:6.27544\tvalidation_1-rmse:6.33449\n",
            "[23]\tvalidation_0-rmse:5.74487\tvalidation_1-rmse:5.82861\n",
            "[24]\tvalidation_0-rmse:5.27289\tvalidation_1-rmse:5.38319\n",
            "[25]\tvalidation_0-rmse:4.85213\tvalidation_1-rmse:4.98975\n",
            "[26]\tvalidation_0-rmse:4.4784\tvalidation_1-rmse:4.6466\n",
            "[27]\tvalidation_0-rmse:4.14695\tvalidation_1-rmse:4.34797\n",
            "[28]\tvalidation_0-rmse:3.85502\tvalidation_1-rmse:4.08786\n",
            "[29]\tvalidation_0-rmse:3.60169\tvalidation_1-rmse:3.86729\n",
            "[30]\tvalidation_0-rmse:3.37504\tvalidation_1-rmse:3.67507\n",
            "[31]\tvalidation_0-rmse:3.1706\tvalidation_1-rmse:3.50837\n",
            "[32]\tvalidation_0-rmse:2.99453\tvalidation_1-rmse:3.37069\n",
            "[33]\tvalidation_0-rmse:2.84172\tvalidation_1-rmse:3.25201\n",
            "[34]\tvalidation_0-rmse:2.70809\tvalidation_1-rmse:3.15071\n",
            "[35]\tvalidation_0-rmse:2.59402\tvalidation_1-rmse:3.06804\n",
            "[36]\tvalidation_0-rmse:2.494\tvalidation_1-rmse:2.99748\n",
            "[37]\tvalidation_0-rmse:2.40589\tvalidation_1-rmse:2.93826\n",
            "[38]\tvalidation_0-rmse:2.32584\tvalidation_1-rmse:2.89075\n",
            "[39]\tvalidation_0-rmse:2.25462\tvalidation_1-rmse:2.84848\n",
            "[40]\tvalidation_0-rmse:2.19562\tvalidation_1-rmse:2.81284\n",
            "[41]\tvalidation_0-rmse:2.13964\tvalidation_1-rmse:2.78258\n",
            "[42]\tvalidation_0-rmse:2.09205\tvalidation_1-rmse:2.75922\n",
            "[43]\tvalidation_0-rmse:2.05648\tvalidation_1-rmse:2.73858\n",
            "[44]\tvalidation_0-rmse:2.02144\tvalidation_1-rmse:2.7238\n",
            "[45]\tvalidation_0-rmse:1.98313\tvalidation_1-rmse:2.70932\n",
            "[46]\tvalidation_0-rmse:1.95457\tvalidation_1-rmse:2.69869\n",
            "[47]\tvalidation_0-rmse:1.93142\tvalidation_1-rmse:2.69304\n",
            "[48]\tvalidation_0-rmse:1.90709\tvalidation_1-rmse:2.68634\n",
            "[49]\tvalidation_0-rmse:1.87209\tvalidation_1-rmse:2.68201\n",
            "[50]\tvalidation_0-rmse:1.84928\tvalidation_1-rmse:2.67662\n",
            "[51]\tvalidation_0-rmse:1.82814\tvalidation_1-rmse:2.67148\n",
            "[52]\tvalidation_0-rmse:1.80351\tvalidation_1-rmse:2.66999\n",
            "[53]\tvalidation_0-rmse:1.79046\tvalidation_1-rmse:2.66627\n",
            "[54]\tvalidation_0-rmse:1.7681\tvalidation_1-rmse:2.66769\n",
            "[55]\tvalidation_0-rmse:1.75915\tvalidation_1-rmse:2.6659\n",
            "[56]\tvalidation_0-rmse:1.734\tvalidation_1-rmse:2.66396\n",
            "[57]\tvalidation_0-rmse:1.7203\tvalidation_1-rmse:2.66244\n",
            "[58]\tvalidation_0-rmse:1.70474\tvalidation_1-rmse:2.6616\n",
            "[59]\tvalidation_0-rmse:1.69538\tvalidation_1-rmse:2.6616\n",
            "[60]\tvalidation_0-rmse:1.6791\tvalidation_1-rmse:2.66021\n",
            "[61]\tvalidation_0-rmse:1.66661\tvalidation_1-rmse:2.65786\n",
            "[62]\tvalidation_0-rmse:1.64484\tvalidation_1-rmse:2.65939\n",
            "[63]\tvalidation_0-rmse:1.63478\tvalidation_1-rmse:2.65794\n",
            "[64]\tvalidation_0-rmse:1.61306\tvalidation_1-rmse:2.65858\n",
            "[65]\tvalidation_0-rmse:1.60133\tvalidation_1-rmse:2.65682\n",
            "[66]\tvalidation_0-rmse:1.59286\tvalidation_1-rmse:2.65818\n",
            "[67]\tvalidation_0-rmse:1.58129\tvalidation_1-rmse:2.65988\n",
            "[68]\tvalidation_0-rmse:1.56235\tvalidation_1-rmse:2.66091\n",
            "[69]\tvalidation_0-rmse:1.55083\tvalidation_1-rmse:2.66319\n",
            "[70]\tvalidation_0-rmse:1.54541\tvalidation_1-rmse:2.66178\n",
            "[71]\tvalidation_0-rmse:1.53176\tvalidation_1-rmse:2.66304\n",
            "[72]\tvalidation_0-rmse:1.52279\tvalidation_1-rmse:2.66371\n",
            "[73]\tvalidation_0-rmse:1.50883\tvalidation_1-rmse:2.66367\n",
            "[74]\tvalidation_0-rmse:1.49476\tvalidation_1-rmse:2.66333\n",
            "[75]\tvalidation_0-rmse:1.47917\tvalidation_1-rmse:2.66616\n",
            "[76]\tvalidation_0-rmse:1.47397\tvalidation_1-rmse:2.66757\n",
            "[77]\tvalidation_0-rmse:1.46104\tvalidation_1-rmse:2.66962\n",
            "[78]\tvalidation_0-rmse:1.45563\tvalidation_1-rmse:2.67092\n",
            "[79]\tvalidation_0-rmse:1.44735\tvalidation_1-rmse:2.67356\n",
            "[80]\tvalidation_0-rmse:1.43708\tvalidation_1-rmse:2.67443\n",
            "[81]\tvalidation_0-rmse:1.43403\tvalidation_1-rmse:2.67389\n",
            "[82]\tvalidation_0-rmse:1.41885\tvalidation_1-rmse:2.67236\n",
            "[83]\tvalidation_0-rmse:1.41158\tvalidation_1-rmse:2.67182\n",
            "[84]\tvalidation_0-rmse:1.39405\tvalidation_1-rmse:2.67258\n",
            "[85]\tvalidation_0-rmse:1.37993\tvalidation_1-rmse:2.6745\n",
            "Stopping. Best iteration:\n",
            "[65]\tvalidation_0-rmse:1.60133\tvalidation_1-rmse:2.65682\n",
            "\n"
          ]
        },
        {
          "output_type": "execute_result",
          "data": {
            "text/plain": [
              "XGBRegressor(colsample_bytree=0.8, eta=0.1, max_depth=10, min_child_weight=0.5,\n",
              "             n_estimators=1000, seed=42, subsample=0.8)"
            ]
          },
          "metadata": {},
          "execution_count": 104
        }
      ]
    },
    {
      "cell_type": "code",
      "metadata": {
        "colab": {
          "base_uri": "https://localhost:8080/"
        },
        "id": "6a009349",
        "outputId": "dadd1cbc-9989-4adf-93a5-8b5390a714e1"
      },
      "source": [
        "pred6 = model.predict(X_test) \n",
        "evaluating_model(y_test, pred6)"
      ],
      "id": "6a009349",
      "execution_count": null,
      "outputs": [
        {
          "output_type": "stream",
          "name": "stdout",
          "text": [
            "MSE 7.058680853560882\n",
            "RMSE 2.656817805864919\n",
            "MAE 1.8311549507338425\n",
            "r2 score 0.8612489568342424\n"
          ]
        }
      ]
    },
    {
      "cell_type": "code",
      "metadata": {
        "colab": {
          "base_uri": "https://localhost:8080/",
          "height": 295
        },
        "id": "894a22b2",
        "outputId": "88594ddd-dd5d-4786-8660-6bff1167016a"
      },
      "source": [
        "from xgboost import plot_importance\n",
        "plot_importance(model)\n",
        "plt.show()"
      ],
      "id": "894a22b2",
      "execution_count": null,
      "outputs": [
        {
          "output_type": "display_data",
          "data": {
            "image/png": "[encoded data removed]",
            "text/plain": [
              "<Figure size 432x288 with 1 Axes>"
            ]
          },
          "metadata": {
            "needs_background": "light"
          }
        }
      ]
    },
    {
      "cell_type": "code",
      "metadata": {
        "colab": {
          "base_uri": "https://localhost:8080/"
        },
        "id": "6434f304",
        "outputId": "119c7da6-ac04-4ae5-aa74-c381200b4df6"
      },
      "source": [
        "from sklearn.ensemble import GradientBoostingRegressor\n",
        "\n",
        "gbdt = GradientBoostingRegressor(n_estimators=200, learning_rate=0.1,max_depth=4,random_state=0) \n",
        "gbdt.fit(X_train, y_train) \n",
        "\n",
        "pred_gdbt = gbdt.predict(X_test) \n",
        "evaluating_model(y_test, pred_gdbt)"
      ],
      "id": "6434f304",
      "execution_count": null,
      "outputs": [
        {
          "output_type": "stream",
          "name": "stdout",
          "text": [
            "MSE 7.132822541015013\n",
            "RMSE 2.670734457226142\n",
            "MAE 1.8539944543222182\n",
            "r2 score 0.8597915688761029\n"
          ]
        }
      ]
    },
    {
      "cell_type": "markdown",
      "metadata": {
        "id": "97e206ae"
      },
      "source": [
        "### We choose XGBoost as our Model to Deploy"
      ],
      "id": "97e206ae"
    },
    {
      "cell_type": "code",
      "metadata": {
        "colab": {
          "base_uri": "https://localhost:8080/"
        },
        "id": "0dca7003",
        "outputId": "751c2f90-4ce5-4006-e59c-227adf8d2503"
      },
      "source": [
        "import joblib \n",
        "joblib.dump(model, 'XGBoost.pkl') \n",
        "model = joblib.load('XGBoost.pkl' ) \n",
        "model.predict(X_test)"
      ],
      "id": "0dca7003",
      "execution_count": null,
      "outputs": [
        {
          "output_type": "stream",
          "name": "stdout",
          "text": [
            "[10:38:08] WARNING: /workspace/src/objective/regression_obj.cu:152: reg:linear is now deprecated in favor of reg:squarederror.\n"
          ]
        },
        {
          "output_type": "execute_result",
          "data": {
            "text/plain": [
              "array([73.01686 , 70.28217 , 50.388405, ..., 53.30078 , 64.43906 ,\n",
              "       71.73551 ], dtype=float32)"
            ]
          },
          "metadata": {},
          "execution_count": 108
        }
      ]
    },
    {
      "cell_type": "code",
      "metadata": {
        "colab": {
          "base_uri": "https://localhost:8080/"
        },
        "id": "ab18632b",
        "outputId": "a47a9a0d-bddc-4cb7-c144-cfc715e7a420"
      },
      "source": [
        "tes  = [[ 45, 25, 12, 25, 12, 12, 15, 25, 25, 12]]\n",
        "model.predict(tes)"
      ],
      "id": "ab18632b",
      "execution_count": null,
      "outputs": [
        {
          "output_type": "execute_result",
          "data": {
            "text/plain": [
              "array([51.815792], dtype=float32)"
            ]
          },
          "metadata": {},
          "execution_count": 109
        }
      ]
    },
    {
      "cell_type": "markdown",
      "metadata": {
        "id": "yRBtsFYBPj4v"
      },
      "source": [
        "### Streamlit\n",
        "Link to youtube video: https://youtu.be/_6K1Fvvdnns"
      ],
      "id": "yRBtsFYBPj4v"
    },
    {
      "cell_type": "code",
      "metadata": {
        "colab": {
          "base_uri": "https://localhost:8080/"
        },
        "id": "Mw8b62YTET9i",
        "outputId": "92269b2f-ef92-4acb-fad3-5c1ce625f866"
      },
      "source": [
        "!pip install kora\n",
        "from kora import console\n",
        "console.start()  # and click link"
      ],
      "id": "Mw8b62YTET9i",
      "execution_count": null,
      "outputs": [
        {
          "output_type": "stream",
          "name": "stdout",
          "text": [
            "Collecting kora\n",
            "  Downloading kora-0.9.19-py3-none-any.whl (57 kB)\n",
            "\u001b[?25l\r\u001b[K     |█████▊                          | 10 kB 23.9 MB/s eta 0:00:01\r\u001b[K     |███████████▍                    | 20 kB 26.0 MB/s eta 0:00:01\r\u001b[K     |█████████████████               | 30 kB 30.4 MB/s eta 0:00:01\r\u001b[K     |██████████████████████▊         | 40 kB 33.6 MB/s eta 0:00:01\r\u001b[K     |████████████████████████████▍   | 51 kB 33.0 MB/s eta 0:00:01\r\u001b[K     |████████████████████████████████| 57 kB 4.1 MB/s \n",
            "\u001b[?25hRequirement already satisfied: ipython in /usr/local/lib/python3.7/dist-packages (from kora) (5.5.0)\n",
            "Collecting fastcore\n",
            "  Downloading fastcore-1.3.27-py3-none-any.whl (56 kB)\n",
            "\u001b[K     |████████████████████████████████| 56 kB 3.5 MB/s \n",
            "\u001b[?25hRequirement already satisfied: packaging in /usr/local/lib/python3.7/dist-packages (from fastcore->kora) (21.3)\n",
            "Requirement already satisfied: pip in /usr/local/lib/python3.7/dist-packages (from fastcore->kora) (21.1.3)\n",
            "Requirement already satisfied: pygments in /usr/local/lib/python3.7/dist-packages (from ipython->kora) (2.6.1)\n",
            "Requirement already satisfied: setuptools>=18.5 in /usr/local/lib/python3.7/dist-packages (from ipython->kora) (57.4.0)\n",
            "Requirement already satisfied: pickleshare in /usr/local/lib/python3.7/dist-packages (from ipython->kora) (0.7.5)\n",
            "Requirement already satisfied: prompt-toolkit<2.0.0,>=1.0.4 in /usr/local/lib/python3.7/dist-packages (from ipython->kora) (1.0.18)\n",
            "Requirement already satisfied: simplegeneric>0.8 in /usr/local/lib/python3.7/dist-packages (from ipython->kora) (0.8.1)\n",
            "Requirement already satisfied: decorator in /usr/local/lib/python3.7/dist-packages (from ipython->kora) (4.4.2)\n",
            "Requirement already satisfied: pexpect in /usr/local/lib/python3.7/dist-packages (from ipython->kora) (4.8.0)\n",
            "Requirement already satisfied: traitlets>=4.2 in /usr/local/lib/python3.7/dist-packages (from ipython->kora) (5.1.1)\n",
            "Requirement already satisfied: six>=1.9.0 in /usr/local/lib/python3.7/dist-packages (from prompt-toolkit<2.0.0,>=1.0.4->ipython->kora) (1.15.0)\n",
            "Requirement already satisfied: wcwidth in /usr/local/lib/python3.7/dist-packages (from prompt-toolkit<2.0.0,>=1.0.4->ipython->kora) (0.2.5)\n",
            "Requirement already satisfied: pyparsing!=3.0.5,>=2.0.2 in /usr/local/lib/python3.7/dist-packages (from packaging->fastcore->kora) (3.0.6)\n",
            "Requirement already satisfied: ptyprocess>=0.5 in /usr/local/lib/python3.7/dist-packages (from pexpect->ipython->kora) (0.7.0)\n",
            "Installing collected packages: fastcore, kora\n",
            "Successfully installed fastcore-1.3.27 kora-0.9.19\n",
            "\n"
          ]
        }
      ]
    },
    {
      "cell_type": "code",
      "metadata": {
        "colab": {
          "base_uri": "https://localhost:8080/"
        },
        "id": "Hq7dd2CvFCwh",
        "outputId": "78b2759d-8696-4d1c-e145-fa3407081df9"
      },
      "source": [
        "!pip install -q streamlit"
      ],
      "id": "Hq7dd2CvFCwh",
      "execution_count": null,
      "outputs": [
        {
          "output_type": "stream",
          "name": "stdout",
          "text": [
            "\u001b[K     |████████████████████████████████| 9.1 MB 24.7 MB/s \n",
            "\u001b[K     |████████████████████████████████| 111 kB 42.8 MB/s \n",
            "\u001b[K     |████████████████████████████████| 76 kB 3.3 MB/s \n",
            "\u001b[K     |████████████████████████████████| 178 kB 74.4 MB/s \n",
            "\u001b[K     |████████████████████████████████| 180 kB 49.5 MB/s \n",
            "\u001b[K     |████████████████████████████████| 4.3 MB 41.1 MB/s \n",
            "\u001b[K     |████████████████████████████████| 63 kB 1.4 MB/s \n",
            "\u001b[K     |████████████████████████████████| 125 kB 49.9 MB/s \n",
            "\u001b[K     |████████████████████████████████| 791 kB 57.9 MB/s \n",
            "\u001b[K     |████████████████████████████████| 374 kB 44.0 MB/s \n",
            "\u001b[?25h  Building wheel for pympler (setup.py) ... \u001b[?25l\u001b[?25hdone\n",
            "  Building wheel for blinker (setup.py) ... \u001b[?25l\u001b[?25hdone\n",
            "\u001b[31mERROR: pip's dependency resolver does not currently take into account all the packages that are installed. This behaviour is the source of the following dependency conflicts.\n",
            "jupyter-console 5.2.0 requires prompt-toolkit<2.0.0,>=1.0.0, but you have prompt-toolkit 3.0.23 which is incompatible.\n",
            "google-colab 1.0.0 requires ipykernel~=4.10, but you have ipykernel 6.5.1 which is incompatible.\n",
            "google-colab 1.0.0 requires ipython~=5.5.0, but you have ipython 7.30.0 which is incompatible.\u001b[0m\n"
          ]
        }
      ]
    },
    {
      "cell_type": "code",
      "metadata": {
        "colab": {
          "base_uri": "https://localhost:8080/"
        },
        "id": "AZ__c657Fgx1",
        "outputId": "6540aaf6-fb0e-4798-d85c-23916ebc5de9"
      },
      "source": [
        "!pip install pyngrok"
      ],
      "id": "AZ__c657Fgx1",
      "execution_count": null,
      "outputs": [
        {
          "output_type": "stream",
          "name": "stdout",
          "text": [
            "Collecting pyngrok\n",
            "  Downloading pyngrok-5.1.0.tar.gz (745 kB)\n",
            "\u001b[?25l\r\u001b[K     |▍                               | 10 kB 23.6 MB/s eta 0:00:01\r\u001b[K     |▉                               | 20 kB 30.3 MB/s eta 0:00:01\r\u001b[K     |█▎                              | 30 kB 33.4 MB/s eta 0:00:01\r\u001b[K     |█▊                              | 40 kB 37.7 MB/s eta 0:00:01\r\u001b[K     |██▏                             | 51 kB 30.7 MB/s eta 0:00:01\r\u001b[K     |██▋                             | 61 kB 24.8 MB/s eta 0:00:01\r\u001b[K     |███                             | 71 kB 26.1 MB/s eta 0:00:01\r\u001b[K     |███▌                            | 81 kB 24.2 MB/s eta 0:00:01\r\u001b[K     |████                            | 92 kB 24.2 MB/s eta 0:00:01\r\u001b[K     |████▍                           | 102 kB 25.5 MB/s eta 0:00:01\r\u001b[K     |████▉                           | 112 kB 25.5 MB/s eta 0:00:01\r\u001b[K     |█████▎                          | 122 kB 25.5 MB/s eta 0:00:01\r\u001b[K     |█████▊                          | 133 kB 25.5 MB/s eta 0:00:01\r\u001b[K     |██████▏                         | 143 kB 25.5 MB/s eta 0:00:01\r\u001b[K     |██████▋                         | 153 kB 25.5 MB/s eta 0:00:01\r\u001b[K     |███████                         | 163 kB 25.5 MB/s eta 0:00:01\r\u001b[K     |███████▌                        | 174 kB 25.5 MB/s eta 0:00:01\r\u001b[K     |████████                        | 184 kB 25.5 MB/s eta 0:00:01\r\u001b[K     |████████▍                       | 194 kB 25.5 MB/s eta 0:00:01\r\u001b[K     |████████▉                       | 204 kB 25.5 MB/s eta 0:00:01\r\u001b[K     |█████████▎                      | 215 kB 25.5 MB/s eta 0:00:01\r\u001b[K     |█████████▊                      | 225 kB 25.5 MB/s eta 0:00:01\r\u001b[K     |██████████▏                     | 235 kB 25.5 MB/s eta 0:00:01\r\u001b[K     |██████████▌                     | 245 kB 25.5 MB/s eta 0:00:01\r\u001b[K     |███████████                     | 256 kB 25.5 MB/s eta 0:00:01\r\u001b[K     |███████████▍                    | 266 kB 25.5 MB/s eta 0:00:01\r\u001b[K     |███████████▉                    | 276 kB 25.5 MB/s eta 0:00:01\r\u001b[K     |████████████▎                   | 286 kB 25.5 MB/s eta 0:00:01\r\u001b[K     |████████████▊                   | 296 kB 25.5 MB/s eta 0:00:01\r\u001b[K     |█████████████▏                  | 307 kB 25.5 MB/s eta 0:00:01\r\u001b[K     |█████████████▋                  | 317 kB 25.5 MB/s eta 0:00:01\r\u001b[K     |██████████████                  | 327 kB 25.5 MB/s eta 0:00:01\r\u001b[K     |██████████████▌                 | 337 kB 25.5 MB/s eta 0:00:01\r\u001b[K     |███████████████                 | 348 kB 25.5 MB/s eta 0:00:01\r\u001b[K     |███████████████▍                | 358 kB 25.5 MB/s eta 0:00:01\r\u001b[K     |███████████████▉                | 368 kB 25.5 MB/s eta 0:00:01\r\u001b[K     |████████████████▎               | 378 kB 25.5 MB/s eta 0:00:01\r\u001b[K     |████████████████▊               | 389 kB 25.5 MB/s eta 0:00:01\r\u001b[K     |█████████████████▏              | 399 kB 25.5 MB/s eta 0:00:01\r\u001b[K     |█████████████████▋              | 409 kB 25.5 MB/s eta 0:00:01\r\u001b[K     |██████████████████              | 419 kB 25.5 MB/s eta 0:00:01\r\u001b[K     |██████████████████▌             | 430 kB 25.5 MB/s eta 0:00:01\r\u001b[K     |███████████████████             | 440 kB 25.5 MB/s eta 0:00:01\r\u001b[K     |███████████████████▍            | 450 kB 25.5 MB/s eta 0:00:01\r\u001b[K     |███████████████████▉            | 460 kB 25.5 MB/s eta 0:00:01\r\u001b[K     |████████████████████▎           | 471 kB 25.5 MB/s eta 0:00:01\r\u001b[K     |████████████████████▋           | 481 kB 25.5 MB/s eta 0:00:01\r\u001b[K     |█████████████████████           | 491 kB 25.5 MB/s eta 0:00:01\r\u001b[K     |█████████████████████▌          | 501 kB 25.5 MB/s eta 0:00:01\r\u001b[K     |██████████████████████          | 512 kB 25.5 MB/s eta 0:00:01\r\u001b[K     |██████████████████████▍         | 522 kB 25.5 MB/s eta 0:00:01\r\u001b[K     |██████████████████████▉         | 532 kB 25.5 MB/s eta 0:00:01\r\u001b[K     |███████████████████████▎        | 542 kB 25.5 MB/s eta 0:00:01\r\u001b[K     |███████████████████████▊        | 552 kB 25.5 MB/s eta 0:00:01\r\u001b[K     |████████████████████████▏       | 563 kB 25.5 MB/s eta 0:00:01\r\u001b[K     |████████████████████████▋       | 573 kB 25.5 MB/s eta 0:00:01\r\u001b[K     |█████████████████████████       | 583 kB 25.5 MB/s eta 0:00:01\r\u001b[K     |█████████████████████████▌      | 593 kB 25.5 MB/s eta 0:00:01\r\u001b[K     |██████████████████████████      | 604 kB 25.5 MB/s eta 0:00:01\r\u001b[K     |██████████████████████████▍     | 614 kB 25.5 MB/s eta 0:00:01\r\u001b[K     |██████████████████████████▉     | 624 kB 25.5 MB/s eta 0:00:01\r\u001b[K     |███████████████████████████▎    | 634 kB 25.5 MB/s eta 0:00:01\r\u001b[K     |███████████████████████████▊    | 645 kB 25.5 MB/s eta 0:00:01\r\u001b[K     |████████████████████████████▏   | 655 kB 25.5 MB/s eta 0:00:01\r\u001b[K     |████████████████████████████▋   | 665 kB 25.5 MB/s eta 0:00:01\r\u001b[K     |█████████████████████████████   | 675 kB 25.5 MB/s eta 0:00:01\r\u001b[K     |█████████████████████████████▌  | 686 kB 25.5 MB/s eta 0:00:01\r\u001b[K     |██████████████████████████████  | 696 kB 25.5 MB/s eta 0:00:01\r\u001b[K     |██████████████████████████████▍ | 706 kB 25.5 MB/s eta 0:00:01\r\u001b[K     |██████████████████████████████▊ | 716 kB 25.5 MB/s eta 0:00:01\r\u001b[K     |███████████████████████████████▏| 727 kB 25.5 MB/s eta 0:00:01\r\u001b[K     |███████████████████████████████▋| 737 kB 25.5 MB/s eta 0:00:01\r\u001b[K     |████████████████████████████████| 745 kB 25.5 MB/s \n",
            "\u001b[?25hRequirement already satisfied: PyYAML in /usr/local/lib/python3.7/dist-packages (from pyngrok) (3.13)\n",
            "Building wheels for collected packages: pyngrok\n",
            "  Building wheel for pyngrok (setup.py) ... \u001b[?25l\u001b[?25hdone\n",
            "  Created wheel for pyngrok: filename=pyngrok-5.1.0-py3-none-any.whl size=19006 sha256=816d94a596908a02f8d6c06625ef8ee1a477f570ce5d50e2e928407610da89ac\n",
            "  Stored in directory: /root/.cache/pip/wheels/bf/e6/af/ccf6598ecefecd44104069371795cb9b3afbcd16987f6ccfb3\n",
            "Successfully built pyngrok\n",
            "Installing collected packages: pyngrok\n",
            "Successfully installed pyngrok-5.1.0\n"
          ]
        }
      ]
    },
    {
      "cell_type": "code",
      "metadata": {
        "id": "7Fk_tRNQF2-2"
      },
      "source": [
        "get_ipython().system_raw('./ngrok http 8501 &')"
      ],
      "id": "7Fk_tRNQF2-2",
      "execution_count": null,
      "outputs": []
    },
    {
      "cell_type": "code",
      "metadata": {
        "colab": {
          "base_uri": "https://localhost:8080/"
        },
        "id": "uBtejp2WJTnX",
        "outputId": "5ddaef3f-bc12-4e9e-e54d-b82aabd780bf"
      },
      "source": [
        "%%writefile streamlitapp.py\n",
        "import streamlit as st\n",
        "import pandas as pd\n",
        "import numpy as np\n",
        "from utils import *\n",
        "\n",
        "st.write(\n",
        "    \"\"\" \n",
        "# Overall Score Predictor \n",
        "\"\"\"\n",
        ")\n",
        "\n",
        "joined = st.number_input(\"Enter  joined:\")\n",
        "power_jumping = st.number_input(\"Enter  power_jumping:\")\n",
        "power_stamina = st.number_input(\"Enter  power_stamina:\")\n",
        "passing = st.number_input(\"Enter  passing:\")\n",
        "team_jersey_number = st.number_input(\"Enter the team_jersey_number:- \")\n",
        "defending = st.number_input(\"Enter defending:-\")\n",
        "shooting = st.number_input(\"Enter shooting:-\")\n",
        "attacking_heading_accuracy = st.number_input(\n",
        "    \"Enter attacking_heading_accuracy:-\")\n",
        "height = st.number_input(\"Enter your height:\")\n",
        "age = st.sidebar.number_input(\"Enter your age:\", 0, 100, 0)\n",
        "\n",
        "if st.button(\"Predict\"):\n",
        "    results = predict(\n",
        "        joined,\n",
        "        power_jumping,\n",
        "        power_stamina,\n",
        "        passing,\n",
        "        team_jersey_number,\n",
        "        defending,\n",
        "        shooting,\n",
        "        attacking_heading_accuracy,\n",
        "        height,\n",
        "        age,\n",
        "    )\n",
        "    st.success(results)\n"
      ],
      "id": "uBtejp2WJTnX",
      "execution_count": null,
      "outputs": [
        {
          "output_type": "stream",
          "name": "stdout",
          "text": [
            "Writing streamlitapp.py\n"
          ]
        }
      ]
    },
    {
      "cell_type": "code",
      "metadata": {
        "colab": {
          "base_uri": "https://localhost:8080/"
        },
        "id": "kcITX5bTJqU7",
        "outputId": "d4002134-185b-4d50-abdd-3064fc3c3777"
      },
      "source": [
        "!ls"
      ],
      "id": "kcITX5bTJqU7",
      "execution_count": null,
      "outputs": [
        {
          "output_type": "stream",
          "name": "stdout",
          "text": [
            "fifa-20-complete-player-dataset.zip  players_17.csv  streamlitapp.py\n",
            "gdrive\t\t\t\t     players_18.csv  teams_and_leagues.csv\n",
            "kaggle.json\t\t\t     players_19.csv  XGBoost.pkl\n",
            "players_15.csv\t\t\t     players_20.csv\n",
            "players_16.csv\t\t\t     sample_data\n"
          ]
        }
      ]
    },
    {
      "cell_type": "code",
      "metadata": {
        "id": "68cLLPkVJ1_p"
      },
      "source": [
        "!streamlit run streamlitapp.py &>/dev/null&"
      ],
      "id": "68cLLPkVJ1_p",
      "execution_count": null,
      "outputs": []
    },
    {
      "cell_type": "code",
      "metadata": {
        "colab": {
          "base_uri": "https://localhost:8080/"
        },
        "id": "1qLs-4O7KJVp",
        "outputId": "7aff756b-2d7b-4376-ebd6-44d3fc96db97"
      },
      "source": [
        "from pyngrok import ngrok\n",
        "# Setup a tunnel to the streamlit port 8501\n",
        "public_url = ngrok.connect(port='8501')\n",
        "public_url"
      ],
      "id": "1qLs-4O7KJVp",
      "execution_count": null,
      "outputs": [
        {
          "output_type": "stream",
          "name": "stdout",
          "text": [
            ""
          ]
        },
        {
          "output_type": "execute_result",
          "data": {
            "text/plain": [
              "<NgrokTunnel: \"http://3162-34-86-149-214.ngrok.io\" -> \"http://localhost:80\">"
            ]
          },
          "metadata": {},
          "execution_count": 117
        }
      ]
    },
    {
      "cell_type": "code",
      "metadata": {
        "id": "szhpU7LUGNPO"
      },
      "source": [
        ""
      ],
      "id": "szhpU7LUGNPO",
      "execution_count": null,
      "outputs": []
    }
  ]
}